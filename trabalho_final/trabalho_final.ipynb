{
 "cells": [
  {
   "cell_type": "markdown",
   "metadata": {
    "collapsed": true,
    "pycharm": {
     "name": "#%% md\n"
    }
   },
   "source": [
    "# Trabalho Final\n",
    "\n",
    "## Utilizando agrupamento nebuloso para analisar relação das vulnerabilidades demográficas e socioeconômicas dos municípios brasileiros com os efeitos da Covid-19\n",
    "\n",
    "### Preparação dos dados "
   ]
  },
  {
   "cell_type": "code",
   "execution_count": 1,
   "outputs": [],
   "source": [
    "import pandas as pd\n",
    "from sklearn import preprocessing\n",
    "import skfuzzy.cluster as cluster\n",
    "import numpy as np\n",
    "import matplotlib.pyplot as plt\n",
    "import os\n"
   ],
   "metadata": {
    "collapsed": false,
    "pycharm": {
     "name": "#%%\n"
    }
   }
  },
  {
   "cell_type": "markdown",
   "source": [
    "#### Dados epidemiológicos"
   ],
   "metadata": {
    "collapsed": false
   }
  },
  {
   "cell_type": "code",
   "execution_count": 95,
   "outputs": [],
   "source": [
    "directory_covid = os.fsencode('dados/covid')\n",
    "df_covid = None\n",
    "for file in os.listdir(directory_covid):\n",
    "    filename = 'dados/covid/' + os.fsdecode(file)\n",
    "    df_temp = pd.read_csv(filename, decimal=',', sep=';')\n",
    "    if df_covid is None:\n",
    "        df_covid = df_temp\n",
    "    else:\n",
    "        df_covid = pd.concat([df_covid, df_temp])\n",
    "\n",
    "df_covid = df_covid[df_covid.municipio.isnull() == False]\n",
    "df_covid.data = pd.to_datetime(df_covid.data, infer_datetime_format=True)\n",
    "data_maxima = df_covid.data.max()\n",
    "df_covid = df_covid[df_covid.data == data_maxima]\n",
    "\n",
    "df_covid = df_covid.rename(\n",
    "    columns={'regiao': 'REGIAO', 'estado': 'SIGLA_ESTADO', 'municipio': 'MUNICIPIO', 'coduf': 'CODIGO_ESTADO',\n",
    "             'codmun': 'CODIGO_MUNICIPIO_6', 'codRegiaoSaude': 'CODIGO_REGIAO_SAUDE', 'nomeRegiaoSaude': 'REGIAO_SAUDE',\n",
    "             'casosAcumulado': 'CASOS', 'obitosAcumulado': 'OBITOS', 'interior/metropolitana': 'REGIAO_METROPOLITANA'})\n",
    "\n",
    "df_covid.CODIGO_MUNICIPIO_6 = df_covid.CODIGO_MUNICIPIO_6.astype('Int64').astype(str)\n",
    "\n",
    "df_base = df_covid[['MUNICIPIO', 'CODIGO_MUNICIPIO_6', 'SIGLA_ESTADO', 'CODIGO_ESTADO', 'REGIAO', 'REGIAO_SAUDE',\n",
    "                    'CODIGO_REGIAO_SAUDE', 'REGIAO_METROPOLITANA', 'CASOS', 'OBITOS']]"
   ],
   "metadata": {
    "collapsed": false,
    "pycharm": {
     "name": "#%%\n"
    }
   }
  },
  {
   "cell_type": "markdown",
   "source": [
    "#### Nome dos estados"
   ],
   "metadata": {
    "collapsed": false
   }
  },
  {
   "cell_type": "code",
   "execution_count": 96,
   "outputs": [],
   "source": [
    "df_estados = pd.read_csv('dados/estados.csv', usecols=[1, 2])\n",
    "df_estados.columns = ['ESTADO', 'SIGLA_ESTADO']\n",
    "df_estados.SIGLA_ESTADO = df_estados.SIGLA_ESTADO.str.strip()\n",
    "df_base = pd.merge(df_base, df_estados, how='left', on='SIGLA_ESTADO')"
   ],
   "metadata": {
    "collapsed": false,
    "pycharm": {
     "name": "#%%\n"
    }
   }
  },
  {
   "cell_type": "markdown",
   "source": [
    "#### Aglomerados subnormais - Estimativa 2019"
   ],
   "metadata": {
    "collapsed": false
   }
  },
  {
   "cell_type": "code",
   "execution_count": 97,
   "outputs": [],
   "source": [
    "df_aglomerados_subnormais_estimativa = pd.read_excel('dados/IBGE/aglomerados_subnormais_estiamativa_2019.xls',\n",
    "                                                     usecols=[1, 3, 4, 5, 8])\n",
    "df_aglomerados_subnormais_estimativa.columns = \\\n",
    "    ['CODIGO_MUNICIPIO_7', 'POPULACAO_ESTIMADA', 'DOMICILIOS_PARTICULARES_OCUPADOS_ESTIMADO',\n",
    "     'DOMICILIOS_PARTICULARES_OCUPADOS_AGLOMERADOS_ESTIMADO',\n",
    "     'PERCENTUAL_DOMICILIOS_PARTICULARES_OCUPADOS_AGLOMERADOS_ESTIMADO']\n",
    "df_aglomerados_subnormais_estimativa.CODIGO_MUNICIPIO_7 = df_aglomerados_subnormais_estimativa.CODIGO_MUNICIPIO_7.astype('Int64').astype(str)\n",
    "df_aglomerados_subnormais_estimativa['CODIGO_MUNICIPIO_6'] = df_aglomerados_subnormais_estimativa.CODIGO_MUNICIPIO_7.str[0:6]\n",
    "df_aglomerados_subnormais_estimativa = df_aglomerados_subnormais_estimativa.fillna(0)\n",
    "\n",
    "df_base = pd.merge(df_base, df_aglomerados_subnormais_estimativa, how='left', on=['CODIGO_MUNICIPIO_6'])"
   ],
   "metadata": {
    "collapsed": false,
    "pycharm": {
     "name": "#%%\n"
    }
   }
  },
  {
   "cell_type": "markdown",
   "source": [
    "#### Regiões imediatas e regiões intermediárias"
   ],
   "metadata": {
    "collapsed": false
   }
  },
  {
   "cell_type": "code",
   "execution_count": 98,
   "outputs": [],
   "source": [
    "df_regioes = pd.read_excel('dados/IBGE/regioes_geograficas_composicao_por_municipios_2017_20180911.ods',\n",
    "                           usecols=[1, 2, 3, 4, 5])\n",
    "df_regioes.columns = ['CODIGO_MUNICIPIO_7', 'CODIGO_REGIAO_IMEDIATA', 'REGIAO_IMEDIATA', 'CODIGO_REGIAO_INTERMEDIARIA', 'REGIAO_INTERMEDIARIA']\n",
    "df_regioes.CODIGO_MUNICIPIO_7 = df_regioes.CODIGO_MUNICIPIO_7.astype('Int64').astype(str)\n",
    "df_base = pd.merge(df_base, df_regioes, how='left', on=['CODIGO_MUNICIPIO_7'])"
   ],
   "metadata": {
    "collapsed": false,
    "pycharm": {
     "name": "#%%\n"
    }
   }
  },
  {
   "cell_type": "markdown",
   "source": [
    "#### Censo 2010 - Dados IBGE\n",
    "\n",
    "##### Faixa etária"
   ],
   "metadata": {
    "collapsed": false
   }
  },
  {
   "cell_type": "code",
   "execution_count": 99,
   "outputs": [],
   "source": [
    "df_percentual_faixa_etaria = pd.read_csv('dados/IBGE/tab2_percentual_faixa_etaria.csv', sep=';', decimal=',')\n",
    "df_percentual_faixa_etaria = df_percentual_faixa_etaria.dropna()\n",
    "df_percentual_faixa_etaria.columns = df_percentual_faixa_etaria.columns.str.replace(\" \", \"_\")\n",
    "df_percentual_faixa_etaria.columns = df_percentual_faixa_etaria.columns.str.upper()\n",
    "df_percentual_faixa_etaria.CODMUN7 = df_percentual_faixa_etaria.CODMUN7.astype('Int64').astype(str)\n",
    "df_percentual_faixa_etaria = df_percentual_faixa_etaria[\n",
    "    ['CODMUN7', '0_A_5_ANOS', '6_A_14_ANOS', '15_A_24_ANOS', '25_A_39_ANOS', '40_A_59_ANOS',\n",
    "     '60_ANOS_OU_MAIS']]\n",
    "df_percentual_faixa_etaria.columns = \\\n",
    "    ['CODIGO_MUNICIPIO_7', 'POPULACAO_0_A_5_ANOS', 'POPULACAO_6_A_14_ANOS', 'POPULACAO_15_A_24_ANOS',\n",
    "     'POPULACAO_25_A_39_ANOS', 'POPULACAO_40_A_59_ANOS', 'POPULACAO_60_ANOS_OU_MAIS']\n",
    "df_base = pd.merge(df_base, df_percentual_faixa_etaria, how=\"left\", on=['CODIGO_MUNICIPIO_7'])"
   ],
   "metadata": {
    "collapsed": false,
    "pycharm": {
     "name": "#%%\n"
    }
   }
  },
  {
   "cell_type": "markdown",
   "source": [
    "##### População sede municipal, área, densidade e domicílios"
   ],
   "metadata": {
    "collapsed": false
   }
  },
  {
   "cell_type": "code",
   "execution_count": 100,
   "outputs": [],
   "source": [
    "PATH_SINOPSE = 'dados/IBGE/SinopseEstados/'\n",
    "directory_sinopse = os.fsencode(PATH_SINOPSE)\n",
    "df_1_densidade = None\n",
    "df_2_domicilios = None\n",
    "for directory_state in os.listdir(directory_sinopse):\n",
    "    directory_path = PATH_SINOPSE + '/' + os.fsdecode(directory_state)\n",
    "    for file in os.listdir(directory_path):\n",
    "        filename = os.fsdecode(file)\n",
    "\n",
    "        if filename.startswith('tab2_1_'):\n",
    "            relative_filename = directory_path + '/' + filename\n",
    "            df_temp = pd.read_excel(relative_filename, header=None, usecols=[3, 7, 8, 9],\n",
    "                                 skiprows=10, skipfooter=1)\n",
    "            df_temp.columns = ['POPULACAO_SEDE_MUNICIPAL', 'AREA', 'DENSIDADE', 'CODIGO_MUNICIPIO_7']\n",
    "            if df_1_densidade is None:\n",
    "                df_1_densidade = df_temp\n",
    "            else:\n",
    "                df_1_densidade = pd.concat([df_1_densidade, df_temp])\n",
    "\n",
    "        if filename.startswith('tab2_2_'):\n",
    "            relative_filename = directory_path + '/' + filename\n",
    "            df_temp = pd.read_excel(relative_filename, header=None, usecols=[2, 11],\n",
    "                                 skiprows=10, skipfooter=2)\n",
    "            df_temp.columns = ['DOMICILIOS_PARTICULARES_OCUPADOS', 'CODIGO_MUNICIPIO_7']\n",
    "            if df_2_domicilios is None:\n",
    "                df_2_domicilios = df_temp\n",
    "            else:\n",
    "                df_2_domicilios = pd.concat([df_2_domicilios, df_temp])\n",
    "df_1_densidade.CODIGO_MUNICIPIO_7 = df_1_densidade.CODIGO_MUNICIPIO_7.astype('Int64').astype(str)\n",
    "df_2_domicilios.CODIGO_MUNICIPIO_7 = df_2_domicilios.CODIGO_MUNICIPIO_7.astype('Int64').astype(str)\n",
    "\n",
    "df_base = pd.merge(df_base, df_1_densidade, how = 'left', on=['CODIGO_MUNICIPIO_7'])\n",
    "df_base = pd.merge(df_base, df_2_domicilios, how = 'left', on=['CODIGO_MUNICIPIO_7'])"
   ],
   "metadata": {
    "collapsed": false,
    "pycharm": {
     "name": "#%%\n"
    }
   }
  },
  {
   "cell_type": "markdown",
   "source": [
    "##### Aglomerados subnormais - Censo 2010"
   ],
   "metadata": {
    "collapsed": false
   }
  },
  {
   "cell_type": "code",
   "execution_count": 101,
   "outputs": [],
   "source": [
    "df_aglomerados_subnormais = pd.read_excel('dados/IBGE/aglomerados_subnormais.xls', header=None,\n",
    "                                          usecols=[1, 2, 3, 4, 5, 6, 7], skiprows=8, skipfooter=3)\n",
    "df_aglomerados_subnormais.columns = \\\n",
    "    ['AGLOMERADOS', 'DOMICILIOS_PARTICULARES_OCUPADOS_AGLOMERADOS',\n",
    "     'POPULACAO_AGLOMERADOS', 'AREA_AGLOMERADOS', 'DENSIDADE_DEMOGRAFICA_AGLOMERADOS',\n",
    "     'DENSIDADE_DOMICILIOS_AGLOMERADOS','CODIGO_MUNICIPIO_7']\n",
    "df_aglomerados_subnormais.CODIGO_MUNICIPIO_7 = df_aglomerados_subnormais.CODIGO_MUNICIPIO_7.astype('Int64').astype(str)\n",
    "df_aglomerados_subnormais = df_aglomerados_subnormais[df_aglomerados_subnormais.CODIGO_MUNICIPIO_7.str.len() == 7]\n",
    "\n",
    "df_base = pd.merge(df_base, df_aglomerados_subnormais, how='left', on=['CODIGO_MUNICIPIO_7'])\n",
    "\n",
    "df_base.AGLOMERADOS = df_base.AGLOMERADOS.fillna(0)\n",
    "df_base.DOMICILIOS_PARTICULARES_OCUPADOS_AGLOMERADOS = df_base.DOMICILIOS_PARTICULARES_OCUPADOS_AGLOMERADOS.fillna(0)\n",
    "df_base.POPULACAO_AGLOMERADOS = df_base.POPULACAO_AGLOMERADOS.fillna(0)\n",
    "df_base.AREA_AGLOMERADOS = df_base.AREA_AGLOMERADOS.fillna(0)\n",
    "df_base.DENSIDADE_DEMOGRAFICA_AGLOMERADOS = df_base.DENSIDADE_DEMOGRAFICA_AGLOMERADOS.fillna(0)\n",
    "df_base.DENSIDADE_DOMICILIOS_AGLOMERADOS = df_base.DENSIDADE_DOMICILIOS_AGLOMERADOS.fillna(0)"
   ],
   "metadata": {
    "collapsed": false,
    "pycharm": {
     "name": "#%%\n"
    }
   }
  },
  {
   "cell_type": "markdown",
   "source": [
    "##### Atributos sistematizados pelo Atlas BR"
   ],
   "metadata": {
    "collapsed": false
   }
  },
  {
   "cell_type": "code",
   "execution_count": 102,
   "outputs": [],
   "source": [
    "df_censo = pd.read_csv('dados/AtlasBrasil/censo.csv', sep=';', decimal=',')\n",
    "df_censo = df_censo[df_censo.ANO ==  2010]\n",
    "df_censo.columns = df_censo.columns.str.upper()\n",
    "df_censo = df_censo[['CODMUN7', 'IDHM','IDHM_E','IDHM_L','IDHM_R', 'FECTOT','CORTE1','CORTE2',\n",
    "                    'CORTE3','CORTE4','CORTE9','GINI', 'PIND', 'PMPOB', 'PPOB', 'PREN10RICOS', 'PREN20','PREN20RICOS',\n",
    "                    'PREN40','PREN60','PREN80', 'PRENTRAB','R1040','R2040', 'RDPC1','RDPC10','RDPC2','RDPC3','RDPC4',\n",
    "                    'RDPC5','RDPCT','RIND','RMPOB','RPOB','THEIL', 'CPR','EMP','P_AGRO','P_COM','P_CONSTR','P_EXTR',\n",
    "                    'P_FORMAL', 'P_SERV', 'P_SIUP', 'P_TRANSF', 'REN0','REN1','REN2','REN3','REN5', 'T_ATIV', 'T_DES',\n",
    "                    'THEILTRAB', 'TRABPUB','T_BANAGUA', 'T_DENS', 'T_OCUPDESLOC_1', 'HOMEMTOT',\n",
    "                     'MULHERTOT', 'PESO1', 'PESO13', 'PESO4', 'PESO5', 'PESO610',\n",
    "                    'PESO1114', 'PESO1517', 'PESO18', 'PESO65', 'PESORUR','PESOTOT','PESOURB', 'RAZDEP', 'POP']]\n",
    "df_censo = df_censo.rename(\n",
    "    columns={'CODMUN7': 'CODIGO_MUNICIPIO_7', 'IDHM_E': 'IDHM_EDUCACAO','IDHM_L': 'IDHM_LONGEVIDADE','IDHM_R': 'IDHM_RENDA',\n",
    "             'FECTOT': 'TAXA_FECUNDIDADE','CORTE1': 'RENDA_PER_CAPTA_MAXIMA_1_QUINTO_MAIS_POBRE',\n",
    "             'CORTE2': 'RENDA_PER_CAPTA_MAXIMA_2_QUINTO_MAIS_POBRE', 'CORTE3': 'RENDA_PER_CAPTA_MAXIMA_3_QUINTO_MAIS_POBRE',\n",
    "             'CORTE4': 'RENDA_PER_CAPTA_MAXIMA_4_QUINTO_MAIS_POBRE','CORTE9': 'RENDA_PER_CAPTA_MINIMA_10_PORCENTO_MAIS_RICOS',\n",
    "             'PIND': 'PERCENTUAL_EXTREMAMENTE_POBRES', 'PMPOB': 'PERCENTUAL_POBRES', 'PPOB': 'PERCENTUAL_VULNERAVEIS_POBREZA',\n",
    "             'PREN10RICOS': 'PERCENTUAL_RENDA_APROPRIADA_10_PORCENTO_MAIS_RICOS',\n",
    "             'PREN20RICOS': 'PERCENTUAL_RENDA_APROPRIADA_20_PORCENTO_MAIS_RICOS',\n",
    "             'PREN20': 'PERCENTUAL_RENDA_APROPRIADA_20_PORCENTO_MAIS_POBRES',\n",
    "             'PREN40': 'PERCENTUAL_RENDA_APROPRIADA_40_PORCENTO_MAIS_POBRES',\n",
    "             'PREN60': 'PERCENTUAL_RENDA_APROPRIADA_60_PORCENTO_MAIS_POBRES',\n",
    "             'PREN80': 'PERCENTUAL_RENDA_APROPRIADA_80_PORCENTO_MAIS_POBRES',\n",
    "             'PRENTRAB': 'PERCENTUAL_RENDA_PROVENIENTE_TRABALHO','R1040': 'RAZAO_10_PORCENTO_MAIS_RICOS_POR_40_PORCENTO_MAIS_POBRES',\n",
    "             'R2040': 'RAZAO_20_PORCENTO_MAIS_RICOS_POR_40_PORCENTO_MAIS_POBRES',\n",
    "             'RDPC1': 'RENDA_PER_CAPTA_MEDIA_1_QUINTO_MAIS_POBRE', 'RDPC2': 'RENDA_PER_CAPTA_MEDIA_2_QUINTO_MAIS_POBRE',\n",
    "             'RDPC3': 'RENDA_PER_CAPTA_MEDIA_3_QUINTO_MAIS_POBRE','RDPC4': 'RENDA_PER_CAPTA_MEDIA_4_QUINTO_MAIS_POBRE',\n",
    "             'RDPC5': 'RENDA_PER_CAPTA_MEDIA_20_PORCENTO_MAIS_RICOS', 'RDPC10': 'RENDA_PER_CAPTA_MEDIA_10_PORCENTO_MAIS_RICOS',\n",
    "             'RIND': 'RENDA_PER_CAPTA_MEDIA_EXTREMAMENTE_POBRES','RMPOB': 'RENDA_PER_CAPTA_MEDIA_POBRES',\n",
    "             'RPOB': 'RENDA_PER_CAPTA_MEDIA_VULNERAVEIS_POBREZA','CPR': 'PERCENTUAL_TRABALHADORES_CONTA_PROPRIA',\n",
    "             'P_AGRO': 'PERCENTUAL_OCUPADOS_AGROPECUARIA','P_COM': 'PERCENTUAL_OCUPADOS_COMERCIO','P_CONSTR': 'PERCENTUAL_OCUPADOS_CONSTRUCAO',\n",
    "             'P_EXTR': 'PERCENTUAL_OCUPADOS_MINERACAO', 'P_FORMAL': 'PERCENTUAL_TRABALHADORES_FORMALIZADOS',\n",
    "             'P_SERV': 'PERCENTUAL_OCUPADOS_SERVICO', 'P_SIUP': 'PERCENTUAL_OCUPADOS_SERVICOS_INDUSTRIAIS_UTILIDADE_PUBLICA',\n",
    "             'P_TRANSF': 'PERCENTUAL_OCUPADOS_INDUSTRIA', 'REN0': 'PERCENTUAL_OCUPADOS_SEM_RENDA',\n",
    "             'REN1': 'PERCENTUAL_OCUPADOS_ATE_1_SALARIO_MINIMO','REN2': 'PERCENTUAL_OCUPADOS_ATE_2_SALARIOS_MINIMOS',\n",
    "             'REN3': 'PERCENTUAL_OCUPADOS_ATE_3_SALARIOS_MINIMOS','REN5': 'PERCENTUAL_OCUPADOS_ATE_5_SALARIOS_MINIMOS',\n",
    "             'T_ATIV': 'TAXA_ATIVIDADE', 'T_DES': 'TAXA_DESOCUPACAO', 'THEILTRAB': 'THEIL_TRABALHO', 'TRABPUB': 'PERCENTUAL_TRABALHADORES_PUBLICOS',\n",
    "             'T_BANAGUA': 'PERCENTUAL_POPULACAO_VIVE_DOMICILIOS_BANHEIRO_AGUA',\n",
    "             'T_DENS': 'PERCENTUAL_POPULACAO_VIVE_DOMICILIOS_DENSIDADE_MAIOR_2_POR_DORMITORIO',\n",
    "             'T_OCUPDESLOC_1': 'PERCENTUAL_POPULACAO_VULNERAVEL_POBREZA_GASTAM_MAIS_UMA_HORA_ATE_TRABALHO',\n",
    "             'HOMEMTOT': 'POPULACAO_MASCULINA', 'MULHERTOT': 'POPULACAO_FEMININA', 'PESO1': 'POPULACAO_ATE_1_ANO',\n",
    "             'PESO13': 'POPULACAO_1_A_3_ANOS', 'PESO4': 'POPULACAO_4_ANOS', 'PESO5': 'POPULACAO_5_ANOS',\n",
    "             'PESO610': 'POPULACAO_6_A_10_ANOS', 'PESO1114': 'POPULACAO_11_A_14_ANOS', 'PESO1517': 'POPULACAO_15_A_17_ANOS',\n",
    "             'PESO18': 'POPULACAO_18_ANOS_OU_MAIS', 'PESO65': 'POPULACAO_65_ANOS_OU_MAIS', 'PESORUR': 'POPULACAO_RURAL',\n",
    "             'PESOTOT': 'POPULACAO_TOTAL','PESOURB': 'POPULACAO_URBANA', 'RAZDEP': 'RAZAO_DEPENDENCIA', 'POP': 'POPULACAO_DOMICILIOS_PARTICULARES'})\n",
    "df_censo = df_censo.astype({'CODIGO_MUNICIPIO_7': str})\n",
    "\n",
    "df_base = pd.merge(df_base, df_censo, how='left', on='CODIGO_MUNICIPIO_7')"
   ],
   "metadata": {
    "collapsed": false,
    "pycharm": {
     "name": "#%%\n"
    }
   }
  },
  {
   "cell_type": "markdown",
   "source": [
    "#### Registros administrativos sistematizados pelo Atlas BR"
   ],
   "metadata": {
    "collapsed": false,
    "pycharm": {
     "name": "#%% md\n"
    }
   }
  },
  {
   "cell_type": "code",
   "execution_count": 103,
   "outputs": [],
   "source": [
    "df_registros_administrativos =  pd.read_csv('dados/AtlasBrasil/registros_administrativos.csv', decimal=',', sep=';')\n",
    "df_registros_administrativos = df_registros_administrativos.astype({'IBGE7': str})\n",
    "\n",
    "df_registros_administrativos_2017 = df_registros_administrativos[df_registros_administrativos.ANO == 2017]\n",
    "df_registros_administrativos_2017 = df_registros_administrativos_2017[\n",
    "    ['IBGE7','PINTERDRSAI', 'REN_TRPCBF_D', 'TXCOBPLP']]\n",
    "df_registros_administrativos_2017 = df_registros_administrativos_2017.rename(\n",
    "    columns={'IBGE7': 'CODIGO_MUNICIPIO_7', 'PINTERDRSAI': 'PERCENTUAL_INTERNACAOES_DOENCAS_SANEAMENTO_INADEQUADO',\n",
    "             'REN_TRPCBF_D': 'TRANSFERENCIA_PERCAPTA_BOLSA_FAMILIA', 'TXCOBPLP': 'PERCENTUAL_POPULACAO_COBERTA_PLANO_SAUDE'})\n",
    "df_base = pd.merge(df_base, df_registros_administrativos_2017, how=\"left\", on=['CODIGO_MUNICIPIO_7'])\n",
    "\n",
    "df_registros_administrativos_2016 = df_registros_administrativos[df_registros_administrativos.ANO == 2016]\n",
    "df_registros_administrativos_2016 = df_registros_administrativos_2016[\n",
    "    ['IBGE7', 'REN_PVAADM', 'REN_PVAAGR', 'REN_PVAIND', 'REN_PVASERV']]\n",
    "df_registros_administrativos_2016 = df_registros_administrativos_2016.rename(\n",
    "    columns={'IBGE7': 'CODIGO_MUNICIPIO_7', 'REN_PVAADM': 'PERCENTUAL_VALOR_ADICIONADO_ADMINISTRACAO_PUBLICA',\n",
    "             'REN_PVAAGR': 'PERCENTUAL_VALOR_ADICIONADO_AGRICULTURA', 'REN_PVAIND': 'PERCENTUAL_VALOR_ADICIONADO_INDUSTRIA',\n",
    "             'REN_PVASERV': 'PERCENTUAL_VALOR_ADICIONADO_SERVICO'})\n",
    "df_base = pd.merge(df_base, df_registros_administrativos_2016, how=\"left\", on=['CODIGO_MUNICIPIO_7'])\n"
   ],
   "metadata": {
    "collapsed": false,
    "pycharm": {
     "name": "#%%\n"
    }
   }
  },
  {
   "cell_type": "markdown",
   "source": [
    "##### Tratamento de dados ausentes em PERCENTUAL_POPULACAO_COBERTA_PLANO_SAUDE"
   ],
   "metadata": {
    "collapsed": false
   }
  },
  {
   "cell_type": "code",
   "execution_count": 104,
   "outputs": [],
   "source": [
    "df_group_regiao_imediata = df_base.groupby('CODIGO_REGIAO_IMEDIATA').mean()[['PERCENTUAL_POPULACAO_COBERTA_PLANO_SAUDE']]\n",
    "df_group_regiao_imediata.columns = ['PERCENTUAL_POPULACAO_COBERTA_PLANO_SAUDE_MEDIA_REGIAO_IMEDIATA']\n",
    "df_group_regiao_imediata = df_group_regiao_imediata.reset_index()\n",
    "df_base = pd.merge(df_base, df_group_regiao_imediata, how='left', on='CODIGO_REGIAO_IMEDIATA')\n",
    "df_base.loc[df_base.PERCENTUAL_POPULACAO_COBERTA_PLANO_SAUDE.isnull(), 'PERCENTUAL_POPULACAO_COBERTA_PLANO_SAUDE'] = \\\n",
    "    df_base[df_base.PERCENTUAL_POPULACAO_COBERTA_PLANO_SAUDE.isnull()].PERCENTUAL_POPULACAO_COBERTA_PLANO_SAUDE_MEDIA_REGIAO_IMEDIATA\n",
    "df_base = df_base.drop(columns=['PERCENTUAL_POPULACAO_COBERTA_PLANO_SAUDE_MEDIA_REGIAO_IMEDIATA'])"
   ],
   "metadata": {
    "collapsed": false,
    "pycharm": {
     "name": "#%%\n"
    }
   }
  },
  {
   "cell_type": "markdown",
   "source": [
    "#### Eleições 2018"
   ],
   "metadata": {
    "collapsed": false,
    "pycharm": {
     "name": "#%% md\n"
    }
   }
  },
  {
   "cell_type": "code",
   "execution_count": 105,
   "outputs": [
    {
     "name": "stderr",
     "output_type": "stream",
     "text": [
      "/home/helder/anaconda3/lib/python3.8/site-packages/IPython/core/interactiveshell.py:3146: DtypeWarning: Columns (25,27) have mixed types.Specify dtype option on import or set low_memory=False.\n",
      "  has_raised = await self.run_ast_nodes(code_ast.body, cell_name,\n",
      "/home/helder/anaconda3/lib/python3.8/site-packages/IPython/core/interactiveshell.py:3146: DtypeWarning: Columns (25,27,30,32,39) have mixed types.Specify dtype option on import or set low_memory=False.\n",
      "  has_raised = await self.run_ast_nodes(code_ast.body, cell_name,\n",
      "/home/helder/anaconda3/lib/python3.8/site-packages/IPython/core/interactiveshell.py:3146: DtypeWarning: Columns (30,32,39) have mixed types.Specify dtype option on import or set low_memory=False.\n",
      "  has_raised = await self.run_ast_nodes(code_ast.body, cell_name,\n"
     ]
    }
   ],
   "source": [
    "PATH_ELEICOES = 'dados/Eleicao2018/'\n",
    "directory_eleicoes = os.fsencode(PATH_ELEICOES)\n",
    "df_eleicoes = None\n",
    "for directory_state in os.listdir(directory_eleicoes):\n",
    "    directory_path = PATH_ELEICOES + '/' + os.fsdecode(directory_state)\n",
    "    for file in os.listdir(directory_path):\n",
    "        filename = os.fsdecode(file)\n",
    "\n",
    "        if filename.endswith('.csv'):\n",
    "            relative_filename = directory_path + '/' + filename\n",
    "            df_eleicoes_temp = pd.read_csv(relative_filename, encoding='Latin 1', sep=';')\n",
    "            df_eleicoes_temp = df_eleicoes_temp[df_eleicoes_temp.DS_CARGO_PERGUNTA == 'Presidente']\n",
    "            df_eleicoes_temp = df_eleicoes_temp.groupby(['CD_MUNICIPIO', 'NM_MUNICIPIO', 'NM_VOTAVEL']).sum()\n",
    "            df_eleicoes_temp = df_eleicoes_temp[['QT_VOTOS']]\n",
    "            df_eleicoes_branco = df_eleicoes_temp.loc[(slice(None), slice(None), 'Branco')]\n",
    "            df_eleicoes_branco.columns = ['VOTOS_BRANCO']\n",
    "            df_eleicoes_nulo = df_eleicoes_temp.loc[(slice(None), slice(None), 'Nulo')]\n",
    "            df_eleicoes_nulo.columns = ['VOTOS_NULO']\n",
    "            df_eleicoes_bolsonaro = df_eleicoes_temp.loc[(slice(None), slice(None), 'JAIR BOLSONARO')]\n",
    "            df_eleicoes_bolsonaro.columns = ['VOTOS_BOLSONARO']\n",
    "            df_eleicoes_haddad = df_eleicoes_temp.loc[(slice(None), slice(None), 'FERNANDO HADDAD')]\n",
    "            df_eleicoes_haddad.columns = ['VOTOS_HADDAD']\n",
    "            df_eleicoes_temp = pd.merge(df_eleicoes_bolsonaro, df_eleicoes_haddad, left_index=True, right_index=True)\n",
    "            df_eleicoes_temp = pd.merge(df_eleicoes_temp, df_eleicoes_branco, left_index=True, right_index=True)\n",
    "            df_eleicoes_temp = pd.merge(df_eleicoes_temp, df_eleicoes_nulo, left_index=True, right_index=True)\n",
    "            df_eleicoes_temp = df_eleicoes_temp.reset_index(level=['CD_MUNICIPIO', 'NM_MUNICIPIO'])\n",
    "            if df_eleicoes is None:\n",
    "                df_eleicoes = df_eleicoes_temp\n",
    "            else:\n",
    "                df_eleicoes = pd.concat([df_eleicoes, df_eleicoes_temp])\n",
    "\n",
    "df_eleicoes = df_eleicoes.drop(columns=['NM_MUNICIPIO'])\n",
    "df_eleicoes = df_eleicoes.rename(columns={'CD_MUNICIPIO': 'CODIGO_MUNICIPIO_TSE'})\n",
    "df_codigos_tse_ibge = pd.read_csv('dados/municipios_brasileiros_tse.csv', usecols=[0, 3, 4])\n",
    "df_codigos_tse_ibge.columns = ['CODIGO_MUNICIPIO_TSE', 'CAPITAL', 'CODIGO_MUNICIPIO_7']\n",
    "df_eleicoes = pd.merge(df_eleicoes, df_codigos_tse_ibge, how=\"left\", on=['CODIGO_MUNICIPIO_TSE'])\n",
    "df_eleicoes.CODIGO_MUNICIPIO_7 = df_eleicoes.CODIGO_MUNICIPIO_7.astype('Int64').astype(str)\n",
    "\n",
    "df_base = pd.merge(df_base, df_eleicoes, how='left', on=['CODIGO_MUNICIPIO_7'])"
   ],
   "metadata": {
    "collapsed": false,
    "pycharm": {
     "name": "#%%\n"
    }
   }
  },
  {
   "cell_type": "code",
   "execution_count": 108,
   "outputs": [
    {
     "data": {
      "text/plain": "               MUNICIPIO CODIGO_MUNICIPIO_6 SIGLA_ESTADO  CODIGO_ESTADO  \\\n0  Alta Floresta D'Oeste             110001           RO             11   \n1              Ariquemes             110002           RO             11   \n2                 Cabixi             110003           RO             11   \n3                 Cacoal             110004           RO             11   \n4             Cerejeiras             110005           RO             11   \n\n  REGIAO    REGIAO_SAUDE  CODIGO_REGIAO_SAUDE  REGIAO_METROPOLITANA    CASOS  \\\n0  Norte    ZONA DA MATA              11005.0                   0.0   4040.0   \n1  Norte  VALE DO JAMARI              11001.0                   0.0  22424.0   \n2  Norte        CONE SUL              11006.0                   0.0    886.0   \n3  Norte            CAFE              11002.0                   0.0  14386.0   \n4  Norte        CONE SUL              11006.0                   0.0   2514.0   \n\n   OBITOS  ... PERCENTUAL_VALOR_ADICIONADO_ADMINISTRACAO_PUBLICA  \\\n0      65  ...                                             31.40   \n1     493  ...                                             29.94   \n2      21  ...                                             31.32   \n3     302  ...                                             27.73   \n4      61  ...                                             28.44   \n\n  PERCENTUAL_VALOR_ADICIONADO_AGRICULTURA  \\\n0                                   36.55   \n1                                    7.37   \n2                                   46.22   \n3                                   10.74   \n4                                   15.12   \n\n   PERCENTUAL_VALOR_ADICIONADO_INDUSTRIA  PERCENTUAL_VALOR_ADICIONADO_SERVICO  \\\n0                                   6.88                                25.18   \n1                                  17.95                                44.73   \n2                                   3.62                                18.85   \n3                                  13.15                                48.38   \n4                                   6.41                                50.03   \n\n   CODIGO_MUNICIPIO_TSE  VOTOS_BOLSONARO  VOTOS_HADDAD VOTOS_BRANCO  \\\n0                   310             8524          3763          169   \n1                    78            37325          8862          754   \n2                   450             2142          1110           56   \n3                    94            35962         10091          848   \n4                   272             7656          1745          121   \n\n   VOTOS_NULO CAPITAL  \n0         626       0  \n1        2041       0  \n2         195       0  \n3        2024       0  \n4         412       0  \n\n[5 rows x 121 columns]",
      "text/html": "<div>\n<style scoped>\n    .dataframe tbody tr th:only-of-type {\n        vertical-align: middle;\n    }\n\n    .dataframe tbody tr th {\n        vertical-align: top;\n    }\n\n    .dataframe thead th {\n        text-align: right;\n    }\n</style>\n<table border=\"1\" class=\"dataframe\">\n  <thead>\n    <tr style=\"text-align: right;\">\n      <th></th>\n      <th>MUNICIPIO</th>\n      <th>CODIGO_MUNICIPIO_6</th>\n      <th>SIGLA_ESTADO</th>\n      <th>CODIGO_ESTADO</th>\n      <th>REGIAO</th>\n      <th>REGIAO_SAUDE</th>\n      <th>CODIGO_REGIAO_SAUDE</th>\n      <th>REGIAO_METROPOLITANA</th>\n      <th>CASOS</th>\n      <th>OBITOS</th>\n      <th>...</th>\n      <th>PERCENTUAL_VALOR_ADICIONADO_ADMINISTRACAO_PUBLICA</th>\n      <th>PERCENTUAL_VALOR_ADICIONADO_AGRICULTURA</th>\n      <th>PERCENTUAL_VALOR_ADICIONADO_INDUSTRIA</th>\n      <th>PERCENTUAL_VALOR_ADICIONADO_SERVICO</th>\n      <th>CODIGO_MUNICIPIO_TSE</th>\n      <th>VOTOS_BOLSONARO</th>\n      <th>VOTOS_HADDAD</th>\n      <th>VOTOS_BRANCO</th>\n      <th>VOTOS_NULO</th>\n      <th>CAPITAL</th>\n    </tr>\n  </thead>\n  <tbody>\n    <tr>\n      <th>0</th>\n      <td>Alta Floresta D'Oeste</td>\n      <td>110001</td>\n      <td>RO</td>\n      <td>11</td>\n      <td>Norte</td>\n      <td>ZONA DA MATA</td>\n      <td>11005.0</td>\n      <td>0.0</td>\n      <td>4040.0</td>\n      <td>65</td>\n      <td>...</td>\n      <td>31.40</td>\n      <td>36.55</td>\n      <td>6.88</td>\n      <td>25.18</td>\n      <td>310</td>\n      <td>8524</td>\n      <td>3763</td>\n      <td>169</td>\n      <td>626</td>\n      <td>0</td>\n    </tr>\n    <tr>\n      <th>1</th>\n      <td>Ariquemes</td>\n      <td>110002</td>\n      <td>RO</td>\n      <td>11</td>\n      <td>Norte</td>\n      <td>VALE DO JAMARI</td>\n      <td>11001.0</td>\n      <td>0.0</td>\n      <td>22424.0</td>\n      <td>493</td>\n      <td>...</td>\n      <td>29.94</td>\n      <td>7.37</td>\n      <td>17.95</td>\n      <td>44.73</td>\n      <td>78</td>\n      <td>37325</td>\n      <td>8862</td>\n      <td>754</td>\n      <td>2041</td>\n      <td>0</td>\n    </tr>\n    <tr>\n      <th>2</th>\n      <td>Cabixi</td>\n      <td>110003</td>\n      <td>RO</td>\n      <td>11</td>\n      <td>Norte</td>\n      <td>CONE SUL</td>\n      <td>11006.0</td>\n      <td>0.0</td>\n      <td>886.0</td>\n      <td>21</td>\n      <td>...</td>\n      <td>31.32</td>\n      <td>46.22</td>\n      <td>3.62</td>\n      <td>18.85</td>\n      <td>450</td>\n      <td>2142</td>\n      <td>1110</td>\n      <td>56</td>\n      <td>195</td>\n      <td>0</td>\n    </tr>\n    <tr>\n      <th>3</th>\n      <td>Cacoal</td>\n      <td>110004</td>\n      <td>RO</td>\n      <td>11</td>\n      <td>Norte</td>\n      <td>CAFE</td>\n      <td>11002.0</td>\n      <td>0.0</td>\n      <td>14386.0</td>\n      <td>302</td>\n      <td>...</td>\n      <td>27.73</td>\n      <td>10.74</td>\n      <td>13.15</td>\n      <td>48.38</td>\n      <td>94</td>\n      <td>35962</td>\n      <td>10091</td>\n      <td>848</td>\n      <td>2024</td>\n      <td>0</td>\n    </tr>\n    <tr>\n      <th>4</th>\n      <td>Cerejeiras</td>\n      <td>110005</td>\n      <td>RO</td>\n      <td>11</td>\n      <td>Norte</td>\n      <td>CONE SUL</td>\n      <td>11006.0</td>\n      <td>0.0</td>\n      <td>2514.0</td>\n      <td>61</td>\n      <td>...</td>\n      <td>28.44</td>\n      <td>15.12</td>\n      <td>6.41</td>\n      <td>50.03</td>\n      <td>272</td>\n      <td>7656</td>\n      <td>1745</td>\n      <td>121</td>\n      <td>412</td>\n      <td>0</td>\n    </tr>\n  </tbody>\n</table>\n<p>5 rows × 121 columns</p>\n</div>"
     },
     "execution_count": 108,
     "metadata": {},
     "output_type": "execute_result"
    }
   ],
   "source": [
    "df_base.head()"
   ],
   "metadata": {
    "collapsed": false,
    "pycharm": {
     "name": "#%%\n"
    }
   }
  },
  {
   "cell_type": "markdown",
   "source": [
    "#### Dados da saúde\n",
    "\n",
    "##### Cobertura da Estratégia de Saúde da Família"
   ],
   "metadata": {
    "collapsed": false
   }
  },
  {
   "cell_type": "code",
   "execution_count": 140,
   "outputs": [],
   "source": [
    "TODO: PAREI AQUI\n",
    "\n",
    "df_cobertura_estrategia_saude_familia = pd.read_excel('dados/saude/Cobertura-AB-TODOS OS MUNICÍPIOS-Dezembro de 2019.xls',\n",
    "                                                      header=None, usecols=[3, 12], skiprows=9, skipfooter=6)\n",
    "df_cobertura_estrategia_saude_familia.columns = \\\n",
    "    ['CODMUN6', 'PERCENTUAL_COBERTURA_ESTRATEGIA_SAUDE_FAMILIA']\n",
    "df_cobertura_estrategia_saude_familia.CODMUN6 = df_cobertura_estrategia_saude_familia.CODMUN6.astype('Int64').astype(str)\n",
    "df_cobertura_estrategia_saude_familia.PERCENTUAL_COBERTURA_ESTRATEGIA_SAUDE_FAMILIA = \\\n",
    "    df_cobertura_estrategia_saude_familia.PERCENTUAL_COBERTURA_ESTRATEGIA_SAUDE_FAMILIA.str.replace(\"%\",\"\")\n",
    "df_cobertura_estrategia_saude_familia.PERCENTUAL_COBERTURA_ESTRATEGIA_SAUDE_FAMILIA = \\\n",
    "    df_cobertura_estrategia_saude_familia.PERCENTUAL_COBERTURA_ESTRATEGIA_SAUDE_FAMILIA.str.replace(\",\",\".\")\n",
    "df_cobertura_estrategia_saude_familia = df_cobertura_estrategia_saude_familia.astype({'PERCENTUAL_COBERTURA_ESTRATEGIA_SAUDE_FAMILIA': float})"
   ],
   "metadata": {
    "collapsed": false,
    "pycharm": {
     "name": "#%%\n"
    }
   }
  },
  {
   "cell_type": "markdown",
   "source": [
    "##### Cobertura dos Agentes Comunitários de Saúde"
   ],
   "metadata": {
    "collapsed": false,
    "pycharm": {
     "name": "#%% md\n"
    }
   }
  },
  {
   "cell_type": "code",
   "execution_count": 141,
   "outputs": [],
   "source": [
    "df_cobertura_agentes_saude = pd.read_excel('dados/saude/Cobertura-ACS-TODOS OS MUNICÍPIOS-Dezembro de 2019.xls',\n",
    "                                                      header=None, usecols=[3, 8], skiprows=9, skipfooter=6)\n",
    "df_cobertura_agentes_saude.columns = \\\n",
    "    ['CODMUN6', 'PERCENTUAL_COBERTURA_AGENTES_COMUNITARIOS_SAUDE']\n",
    "df_cobertura_agentes_saude.CODMUN6 = df_cobertura_agentes_saude.CODMUN6.astype('Int64').astype(str)\n",
    "df_cobertura_agentes_saude.PERCENTUAL_COBERTURA_AGENTES_COMUNITARIOS_SAUDE = \\\n",
    "    df_cobertura_agentes_saude.PERCENTUAL_COBERTURA_AGENTES_COMUNITARIOS_SAUDE.str.replace(\"%\",\"\")\n",
    "df_cobertura_agentes_saude.PERCENTUAL_COBERTURA_AGENTES_COMUNITARIOS_SAUDE = \\\n",
    "    df_cobertura_agentes_saude.PERCENTUAL_COBERTURA_AGENTES_COMUNITARIOS_SAUDE.str.replace(\",\",\".\")\n",
    "df_cobertura_agentes_saude = df_cobertura_agentes_saude.astype({'PERCENTUAL_COBERTURA_AGENTES_COMUNITARIOS_SAUDE': float})"
   ],
   "metadata": {
    "collapsed": false,
    "pycharm": {
     "name": "#%%\n"
    }
   }
  },
  {
   "cell_type": "markdown",
   "source": [
    "##### Enfermeiros"
   ],
   "metadata": {
    "collapsed": false
   }
  },
  {
   "cell_type": "code",
   "execution_count": 142,
   "outputs": [],
   "source": [
    "df_enfermeiros = pd.read_csv('dados/saude/enfermeiros_2019_12.csv', sep=';', decimal=',')\n",
    "df_enfermeiros.columns = ['MUNICIPIO', 'NUMERO_ENFERMEIROS_SUS', 'NUMERO_ENFERMEIROS_NAO_SUS', 'NUMERO_ENFERMEIROS_TOTAL']\n",
    "df_enfermeiros =  df_enfermeiros.replace(\"-\", 0)\n",
    "df_enfermeiros['CODMUN6'] = df_enfermeiros.MUNICIPIO.str[:6]\n",
    "df_enfermeiros = df_enfermeiros.astype({'NUMERO_ENFERMEIROS_SUS': int, 'NUMERO_ENFERMEIROS_NAO_SUS': int, 'NUMERO_ENFERMEIROS_TOTAL': int})\n",
    "df_enfermeiros = df_enfermeiros.drop(columns=['MUNICIPIO'])"
   ],
   "metadata": {
    "collapsed": false,
    "pycharm": {
     "name": "#%%\n"
    }
   }
  },
  {
   "cell_type": "markdown",
   "source": [
    "##### Médicos"
   ],
   "metadata": {
    "collapsed": false
   }
  },
  {
   "cell_type": "code",
   "execution_count": 143,
   "outputs": [],
   "source": [
    "df_medicos = pd.read_csv('dados/saude/medicos_2019_12.csv', sep=';', decimal=',')\n",
    "df_medicos.columns = ['MUNICIPIO', 'NUMERO_MEDICOS_SUS', 'NUMERO_MEDICOS_NAO_SUS', 'NUMERO_MEDICOS_TOTAL']\n",
    "df_medicos =  df_medicos.replace(\"-\", 0)\n",
    "df_medicos['CODMUN6'] = df_medicos.MUNICIPIO.str[:6]\n",
    "df_medicos = df_medicos.astype({'NUMERO_MEDICOS_SUS': int, 'NUMERO_MEDICOS_NAO_SUS': int, 'NUMERO_MEDICOS_TOTAL': int})\n",
    "df_medicos = df_medicos.drop(columns=['MUNICIPIO'])"
   ],
   "metadata": {
    "collapsed": false,
    "pycharm": {
     "name": "#%%\n"
    }
   }
  },
  {
   "cell_type": "markdown",
   "source": [
    "##### LEITOS INTERNAÇÃO"
   ],
   "metadata": {
    "collapsed": false
   }
  },
  {
   "cell_type": "code",
   "execution_count": 144,
   "outputs": [],
   "source": [
    "df_leitos_internacao = pd.read_csv('dados/saude/leitos_internacao_2019_12.csv', sep=';', decimal=',')\n",
    "df_leitos_internacao.columns = ['MUNICIPIO', 'NUMERO_LEITOS_INTERNACAO_SUS', 'NUMERO_LEITOS_INTERNACAO_NAO_SUS', 'NUMERO_LEITOS_INTERNACAO_TOTAL']\n",
    "df_leitos_internacao =  df_leitos_internacao.replace(\"-\", 0)\n",
    "df_leitos_internacao['CODMUN6'] = df_leitos_internacao.MUNICIPIO.str[:6]\n",
    "df_leitos_internacao = df_leitos_internacao.astype({'NUMERO_LEITOS_INTERNACAO_SUS': int, 'NUMERO_LEITOS_INTERNACAO_NAO_SUS': int, 'NUMERO_LEITOS_INTERNACAO_TOTAL': int})\n",
    "df_leitos_internacao = df_leitos_internacao.drop(columns=['MUNICIPIO'])"
   ],
   "metadata": {
    "collapsed": false,
    "pycharm": {
     "name": "#%%\n"
    }
   }
  },
  {
   "cell_type": "markdown",
   "source": [
    "##### LEITOS UTI"
   ],
   "metadata": {
    "collapsed": false
   }
  },
  {
   "cell_type": "code",
   "execution_count": 145,
   "outputs": [],
   "source": [
    "df_leitos_uti = pd.read_csv('dados/saude/leitos_uti_2019_12.csv', sep=';', decimal=',')\n",
    "df_leitos_uti.columns = ['MUNICIPIO', 'NUMERO_LEITOS_UTI_SUS', 'NUMERO_LEITOS_UTI_NAO_SUS', 'NUMERO_LEITOS_UTI_TOTAL']\n",
    "df_leitos_uti =  df_leitos_uti.replace(\"-\", 0)\n",
    "df_leitos_uti['CODMUN6'] = df_leitos_uti.MUNICIPIO.str[:6]\n",
    "df_leitos_uti = df_leitos_uti.astype({'NUMERO_LEITOS_UTI_SUS': int, 'NUMERO_LEITOS_UTI_NAO_SUS': int, 'NUMERO_LEITOS_UTI_TOTAL': int})\n",
    "df_leitos_uti = df_leitos_uti.drop(columns=['MUNICIPIO'])"
   ],
   "metadata": {
    "collapsed": false,
    "pycharm": {
     "name": "#%%\n"
    }
   }
  },
  {
   "cell_type": "markdown",
   "source": [
    "##### Ventiladores/Respiradores"
   ],
   "metadata": {
    "collapsed": false
   }
  },
  {
   "cell_type": "code",
   "execution_count": 147,
   "outputs": [],
   "source": [
    "df_ventiladores_respiradores = pd.read_csv('dados/saude/respiradores_ventiladores_2019_12.csv',\n",
    "                                           sep=';', decimal=',', usecols=[0, 1, 2])\n",
    "df_ventiladores_respiradores.columns = ['MUNICIPIO', 'NUMERO_VENTILADORES_RESPIRADORES_EXISTENTES', 'NUMERO_VENTILADORES_RESPIRADORES_EM_USO']\n",
    "df_ventiladores_respiradores =  df_ventiladores_respiradores.replace(\"-\", 0)\n",
    "df_ventiladores_respiradores['CODMUN6'] = df_ventiladores_respiradores.MUNICIPIO.str[:6]\n",
    "df_ventiladores_respiradores = df_ventiladores_respiradores.astype({'NUMERO_VENTILADORES_RESPIRADORES_EXISTENTES': int, 'NUMERO_VENTILADORES_RESPIRADORES_EM_USO': int})\n",
    "df_ventiladores_respiradores = df_ventiladores_respiradores.drop(columns=['MUNICIPIO'])"
   ],
   "metadata": {
    "collapsed": false,
    "pycharm": {
     "name": "#%%\n"
    }
   }
  },
  {
   "cell_type": "markdown",
   "source": [
    "#### Doenças de risco à Covid-19"
   ],
   "metadata": {
    "collapsed": false
   }
  },
  {
   "cell_type": "code",
   "execution_count": 193,
   "outputs": [
    {
     "data": {
      "text/plain": "     ESTADO  PERCENTUAL_ASMA\n0  Rondônia              3.6\n1      Acre              3.7\n2  Amazonas              4.5\n3   Roraima              6.1\n4      Pará              4.6",
      "text/html": "<div>\n<style scoped>\n    .dataframe tbody tr th:only-of-type {\n        vertical-align: middle;\n    }\n\n    .dataframe tbody tr th {\n        vertical-align: top;\n    }\n\n    .dataframe thead th {\n        text-align: right;\n    }\n</style>\n<table border=\"1\" class=\"dataframe\">\n  <thead>\n    <tr style=\"text-align: right;\">\n      <th></th>\n      <th>ESTADO</th>\n      <th>PERCENTUAL_ASMA</th>\n    </tr>\n  </thead>\n  <tbody>\n    <tr>\n      <th>0</th>\n      <td>Rondônia</td>\n      <td>3.6</td>\n    </tr>\n    <tr>\n      <th>1</th>\n      <td>Acre</td>\n      <td>3.7</td>\n    </tr>\n    <tr>\n      <th>2</th>\n      <td>Amazonas</td>\n      <td>4.5</td>\n    </tr>\n    <tr>\n      <th>3</th>\n      <td>Roraima</td>\n      <td>6.1</td>\n    </tr>\n    <tr>\n      <th>4</th>\n      <td>Pará</td>\n      <td>4.6</td>\n    </tr>\n  </tbody>\n</table>\n</div>"
     },
     "execution_count": 193,
     "metadata": {},
     "output_type": "execute_result"
    }
   ],
   "source": [
    "df_asma_estados = pd.read_excel('dados/pesquisa_nacional_saude/asma.ods', header=None, usecols=[0, 1], skiprows=14, skipfooter=2)\n",
    "df_asma_estados.columns = ['ESTADO', 'PERCENTUAL_ASMA']\n",
    "df_asma_estados.head()"
   ],
   "metadata": {
    "collapsed": false,
    "pycharm": {
     "name": "#%%\n"
    }
   }
  },
  {
   "cell_type": "code",
   "execution_count": 195,
   "outputs": [
    {
     "data": {
      "text/plain": "     MUNICIPIO  PERCENTUAL_ASMA\n0  Porto Velho              3.8\n1   Rio Branco              4.0\n2       Manaus              4.1\n3    Boa Vista              6.6\n4        Belém              6.1",
      "text/html": "<div>\n<style scoped>\n    .dataframe tbody tr th:only-of-type {\n        vertical-align: middle;\n    }\n\n    .dataframe tbody tr th {\n        vertical-align: top;\n    }\n\n    .dataframe thead th {\n        text-align: right;\n    }\n</style>\n<table border=\"1\" class=\"dataframe\">\n  <thead>\n    <tr style=\"text-align: right;\">\n      <th></th>\n      <th>MUNICIPIO</th>\n      <th>PERCENTUAL_ASMA</th>\n    </tr>\n  </thead>\n  <tbody>\n    <tr>\n      <th>0</th>\n      <td>Porto Velho</td>\n      <td>3.8</td>\n    </tr>\n    <tr>\n      <th>1</th>\n      <td>Rio Branco</td>\n      <td>4.0</td>\n    </tr>\n    <tr>\n      <th>2</th>\n      <td>Manaus</td>\n      <td>4.1</td>\n    </tr>\n    <tr>\n      <th>3</th>\n      <td>Boa Vista</td>\n      <td>6.6</td>\n    </tr>\n    <tr>\n      <th>4</th>\n      <td>Belém</td>\n      <td>6.1</td>\n    </tr>\n  </tbody>\n</table>\n</div>"
     },
     "execution_count": 195,
     "metadata": {},
     "output_type": "execute_result"
    }
   ],
   "source": [
    "df_asma_capitais = pd.read_excel('dados/pesquisa_nacional_saude/asma.ods', sheet_name='sexo_(cap)', header=None, usecols=[0, 1], skiprows=12, skipfooter=3)\n",
    "df_asma_capitais.columns = ['MUNICIPIO', 'PERCENTUAL_ASMA']\n",
    "df_asma_capitais.head()\n"
   ],
   "metadata": {
    "collapsed": false,
    "pycharm": {
     "name": "#%%\n"
    }
   }
  },
  {
   "cell_type": "markdown",
   "source": [
    "##### Merge df_base and df_cobertura_estrategia_saude_familia"
   ],
   "metadata": {
    "collapsed": false
   }
  },
  {
   "cell_type": "code",
   "execution_count": 157,
   "outputs": [],
   "source": [
    "df_base = pd.merge(df_base, df_cobertura_estrategia_saude_familia, how='left', on=['CODMUN6'])\n"
   ],
   "metadata": {
    "collapsed": false,
    "pycharm": {
     "name": "#%%\n"
    }
   }
  },
  {
   "cell_type": "markdown",
   "source": [
    "##### Merge df_base and df_cobertura_agentes_saude"
   ],
   "metadata": {
    "collapsed": false
   }
  },
  {
   "cell_type": "code",
   "execution_count": 158,
   "outputs": [],
   "source": [
    "df_base = pd.merge(df_base, df_cobertura_agentes_saude, how='left', on=['CODMUN6'])"
   ],
   "metadata": {
    "collapsed": false,
    "pycharm": {
     "name": "#%%\n"
    }
   }
  },
  {
   "cell_type": "markdown",
   "source": [
    "##### Merge df_base and df_enfermeiros"
   ],
   "metadata": {
    "collapsed": false
   }
  },
  {
   "cell_type": "code",
   "execution_count": 159,
   "outputs": [],
   "source": [
    "df_base = pd.merge(df_base, df_enfermeiros, how='left', on=['CODMUN6'])"
   ],
   "metadata": {
    "collapsed": false,
    "pycharm": {
     "name": "#%%\n"
    }
   }
  },
  {
   "cell_type": "markdown",
   "source": [
    "##### Merge df_base and df_medicos"
   ],
   "metadata": {
    "collapsed": false
   }
  },
  {
   "cell_type": "code",
   "execution_count": 160,
   "outputs": [],
   "source": [
    "df_base = pd.merge(df_base, df_medicos, how='left', on=['CODMUN6'])"
   ],
   "metadata": {
    "collapsed": false,
    "pycharm": {
     "name": "#%%\n"
    }
   }
  },
  {
   "cell_type": "markdown",
   "source": [
    "##### Merge df_base and df_leitos_internacao"
   ],
   "metadata": {
    "collapsed": false,
    "pycharm": {
     "name": "#%% md\n"
    }
   }
  },
  {
   "cell_type": "code",
   "execution_count": 161,
   "outputs": [],
   "source": [
    "df_base = pd.merge(df_base, df_leitos_internacao, how='left', on=['CODMUN6'])"
   ],
   "metadata": {
    "collapsed": false,
    "pycharm": {
     "name": "#%%\n"
    }
   }
  },
  {
   "cell_type": "markdown",
   "source": [
    "##### Merge df_base and df_leitos_uti"
   ],
   "metadata": {
    "collapsed": false
   }
  },
  {
   "cell_type": "code",
   "execution_count": 162,
   "outputs": [],
   "source": [
    "df_base = pd.merge(df_base, df_leitos_uti, how='left', on=['CODMUN6'])"
   ],
   "metadata": {
    "collapsed": false,
    "pycharm": {
     "name": "#%%\n"
    }
   }
  },
  {
   "cell_type": "markdown",
   "source": [
    "##### Merge df_base and df_ventiladores_respiradores"
   ],
   "metadata": {
    "collapsed": false
   }
  },
  {
   "cell_type": "code",
   "execution_count": 163,
   "outputs": [],
   "source": [
    "df_base = pd.merge(df_base, df_ventiladores_respiradores, how='left', on=['CODMUN6'])"
   ],
   "metadata": {
    "collapsed": false,
    "pycharm": {
     "name": "#%%\n"
    }
   }
  },
  {
   "cell_type": "markdown",
   "source": [
    "##### Merge df_base and df_group_regiao_imediata"
   ],
   "metadata": {
    "collapsed": false
   }
  },
  {
   "cell_type": "code",
   "execution_count": null,
   "outputs": [],
   "source": [
    "df_group_regiao_imediata = df_base.groupby('CODIGO_REGIAO_IMEDIATA').sum()[\n",
    "    ['POPULACAO_ESTIMADA', 'NUMERO_LEITOS_INTERNACAO_TOTAL', 'NUMERO_LEITOS_UTI_TOTAL', 'NUMERO_MEDICOS_TOTAL',\n",
    "     'NUMERO_ENFERMEIROS_TOTAL', 'NUMERO_VENTILADORES_RESPIRADORES_EM_USO']]\n",
    "df_group_regiao_imediata.columns = ['POPULACAO_ESTIMADA_REGIAO_IMEDIATA', 'NUMERO_LEITOS_INTERNACAO_TOTAL_REGIAO_IMEDIATA',\n",
    "                                    'NUMERO_LEITOS_UTI_TOTAL_REGIAO_IMEDIATA', 'NUMERO_MEDICOS_TOTAL_REGIAO_IMEDIATA',\n",
    "     'NUMERO_ENFERMEIROS_TOTAL_REGIAO_IMEDIATA', 'NUMERO_VENTILADORES_RESPIRADORES_EM_USO_REGIAO_IMEDIATA']\n",
    "df_group_regiao_imediata = df_group_regiao_imediata.reset_index()\n",
    "df_base = pd.merge(df_base, df_group_regiao_imediata, how='left', on='CODIGO_REGIAO_IMEDIATA')"
   ],
   "metadata": {
    "collapsed": false,
    "pycharm": {
     "name": "#%%\n"
    }
   }
  },
  {
   "cell_type": "code",
   "execution_count": null,
   "outputs": [],
   "source": [],
   "metadata": {
    "collapsed": false,
    "pycharm": {
     "name": "#%%\n"
    }
   }
  },
  {
   "cell_type": "markdown",
   "source": [
    "##### Merge df_base and df_group_regiao_intermediaria"
   ],
   "metadata": {
    "collapsed": false
   }
  },
  {
   "cell_type": "code",
   "execution_count": null,
   "outputs": [],
   "source": [
    "df_group_regiao_intermediaria = df_base.groupby('CODIGO_REGIAO_INTERMEDIARIA').sum()[\n",
    "    ['POPULACAO_ESTIMADA', 'NUMERO_LEITOS_INTERNACAO_TOTAL', 'NUMERO_LEITOS_UTI_TOTAL', 'NUMERO_MEDICOS_TOTAL',\n",
    "     'NUMERO_ENFERMEIROS_TOTAL', 'NUMERO_VENTILADORES_RESPIRADORES_EM_USO']]\n",
    "df_group_regiao_intermediaria.columns = ['POPULACAO_ESTIMADA_REGIAO_INTERMEDIARIA', 'NUMERO_LEITOS_INTERNACAO_TOTAL_REGIAO_INTERMEDIARIA',\n",
    "                                    'NUMERO_LEITOS_UTI_TOTAL_REGIAO_INTERMEDIARIA', 'NUMERO_MEDICOS_TOTAL_REGIAO_INTERMEDIARIA',\n",
    "     'NUMERO_ENFERMEIROS_TOTAL_REGIAO_INTERMEDIARIA', 'NUMERO_VENTILADORES_RESPIRADORES_EM_USO_REGIAO_INTERMEDIARIA']\n",
    "df_group_regiao_intermediaria = df_group_regiao_intermediaria.reset_index()\n",
    "df_base = pd.merge(df_base, df_group_regiao_intermediaria, how='left', on='CODIGO_REGIAO_INTERMEDIARIA')"
   ],
   "metadata": {
    "collapsed": false,
    "pycharm": {
     "name": "#%%\n"
    }
   }
  },
  {
   "cell_type": "markdown",
   "source": [
    "#### Creating new attributes"
   ],
   "metadata": {
    "collapsed": false
   }
  },
  {
   "cell_type": "code",
   "execution_count": 165,
   "outputs": [],
   "source": [
    "df_base['TAXA_CASOS_100_MIL'] = df_base.CASOS / df_base.POPULACAO_ESTIMADA * 100000\n",
    "df_base['TAXA_OBITOS_100_MIL'] = df_base.OBITOS / df_base.POPULACAO_ESTIMADA * 100000\n",
    "df_base['TAXA_LETALIDADE'] = df_base.OBITOS / df_base.CASOS * 100\n",
    "df_base['RAZAO_HOMEM_MULHER'] = df_base.HOMEMTOT / df_base.MULHERTOT\n",
    "df_base['RAZAO_POPULACAO_RURAL_URBANA'] = df_base.PESORUR / df_base.PESOURB\n",
    "df_base['PERCENTUAL_POPULACAO_SEDE_MUNICIPAL'] = df_base.POPULACAO_SEDE_MUNICIPAL / df_base.PESOTOT * 100\n",
    "df_base['PERCENTUAL_POPULACAO_17_OU_MENOS_ANOS'] = \\\n",
    "    (df_base.PESO1 + df_base.PESO13 + df_base.PESO4 + df_base.PESO5 + df_base.PESO610 + df_base.PESO1114 + df_base.PESO1517) / df_base.PESOTOT * 100\n",
    "df_base['PERCENTUAL_POPULACAO_18_ATE_39_ANOS'] = (df_base.PESO18 / df_base.PESOTOT * 100) - df_base['40_A_59_ANOS'] - df_base['60_ANOS_OU_MAIS']\n",
    "df_base['PERCENTUAL_POPULACAO_40_ATE_59_ANOS'] = df_base['40_A_59_ANOS']\n",
    "df_base['PERCENTUAL_POPULACAO_60_OU_MAIS_ANOS'] = df_base['60_ANOS_OU_MAIS']\n",
    "df_base['DENSIDADE_DOMICILIOS'] = df_base.TOTAL_DOMICILIOS_OCUPADOS / df_base.AREA\n",
    "df_base['PERCENTUAL_DOMICILIOS_AGLOMERADOS'] = df_base.NUMERO_DOMICILIOS_PARTICULARES_OCUPADOS_AGLOMERADOS / df_base.TOTAL_DOMICILIOS_OCUPADOS * 100\n",
    "df_base['PERCENTUAL_POPULACAO_AGLOMERADOS'] = df_base.POPULACAO_DOMICILIOS_PARTICULARES_OCUPADOS_AGLOMERADOS / df_base.PESOTOT * 100\n",
    "df_base['DENSIDADE_DOMICILIOS_ESTIMADA'] = df_base.EDOC_TOTAL / df_base.AREA\n",
    "df_base['NUMERO_VOTOS'] = df_base.VOTOS_BOLSONARO + df_base.VOTOS_HADDAD + df_base.VOTOS_NULO + df_base.VOTOS_BRANCO\n",
    "df_base['PERCENTUAL_VOTOS_BOLSONARO'] = df_base.VOTOS_BOLSONARO / df_base.NUMERO_VOTOS * 100\n",
    "df_base['PERCENTUAL_VOTOS_HADDAD'] = df_base.VOTOS_HADDAD / df_base.NUMERO_VOTOS * 100\n",
    "df_base['TAXA_LEITOS_INTERNACAO_100_MIL'] = df_base.NUMERO_LEITOS_INTERNACAO_TOTAL / df_base.POPULACAO_ESTIMADA * 100000\n",
    "df_base['TAXA_LEITOS_UTI_100_MIL'] = df_base.NUMERO_LEITOS_UTI_TOTAL / df_base.POPULACAO_ESTIMADA * 100000\n",
    "df_base['TAXA_MEDICOS_100_MIL'] = df_base.NUMERO_MEDICOS_TOTAL / df_base.POPULACAO_ESTIMADA * 100000\n",
    "df_base['TAXA_ENFERMEIROS_100_MIL'] = df_base.NUMERO_ENFERMEIROS_TOTAL / df_base.POPULACAO_ESTIMADA * 100000\n",
    "df_base['TAXA_VENTILADORES_REPIRADORES_EM_USO_100_MIL'] = df_base.NUMERO_VENTILADORES_RESPIRADORES_EM_USO / df_base.POPULACAO_ESTIMADA * 100000\n",
    "df_base['TAXA_LEITOS_INTERNACAO_REGIAO_IMEDIATA_100_MIL'] = df_base.NUMERO_LEITOS_INTERNACAO_TOTAL_REGIAO_IMEDIATA / df_base.POPULACAO_ESTIMADA_REGIAO_IMEDIATA * 100000\n",
    "df_base['TAXA_LEITOS_UTI_REGIAO_IMEDIATA_100_MIL'] = df_base.NUMERO_LEITOS_UTI_TOTAL_REGIAO_IMEDIATA / df_base.POPULACAO_ESTIMADA_REGIAO_IMEDIATA * 100000\n",
    "df_base['TAXA_MEDICOS_REGIAO_IMEDIATA_100_MIL'] = df_base.NUMERO_MEDICOS_TOTAL_REGIAO_IMEDIATA / df_base.POPULACAO_ESTIMADA_REGIAO_IMEDIATA * 100000\n",
    "df_base['TAXA_ENFERMEIROS_REGIAO_IMEDIATA_100_MIL'] = df_base.NUMERO_ENFERMEIROS_TOTAL_REGIAO_IMEDIATA / df_base.POPULACAO_ESTIMADA_REGIAO_IMEDIATA * 100000\n",
    "df_base['TAXA_VENTILADORES_REPIRADORES_EM_USO_REGIAO_IMEDIATA_100_MIL'] = df_base.NUMERO_VENTILADORES_RESPIRADORES_EM_USO_REGIAO_IMEDIATA / df_base.POPULACAO_ESTIMADA_REGIAO_IMEDIATA * 100000\n",
    "df_base['TAXA_LEITOS_INTERNACAO_REGIAO_INTERMEDIARIA_100_MIL'] = df_base.NUMERO_LEITOS_INTERNACAO_TOTAL_REGIAO_INTERMEDIARIA / df_base.POPULACAO_ESTIMADA_REGIAO_INTERMEDIARIA * 100000\n",
    "df_base['TAXA_LEITOS_UTI_REGIAO_INTERMEDIARIA_100_MIL'] = df_base.NUMERO_LEITOS_UTI_TOTAL_REGIAO_INTERMEDIARIA / df_base.POPULACAO_ESTIMADA_REGIAO_INTERMEDIARIA * 100000\n",
    "df_base['TAXA_MEDICOS_REGIAO_INTERMEDIARIA_100_MIL'] = df_base.NUMERO_MEDICOS_TOTAL_REGIAO_INTERMEDIARIA / df_base.POPULACAO_ESTIMADA_REGIAO_INTERMEDIARIA * 100000\n",
    "df_base['TAXA_ENFERMEIROS_REGIAO_INTERMEDIARIA_100_MIL'] = df_base.NUMERO_ENFERMEIROS_TOTAL_REGIAO_INTERMEDIARIA / df_base.POPULACAO_ESTIMADA_REGIAO_INTERMEDIARIA * 100000\n",
    "df_base['TAXA_VENTILADORES_REPIRADORES_EM_USO_REGIAO_INTERMEDIARIA_100_MIL'] = df_base.NUMERO_VENTILADORES_RESPIRADORES_EM_USO_REGIAO_INTERMEDIARIA / df_base.POPULACAO_ESTIMADA_REGIAO_INTERMEDIARIA * 100000"
   ],
   "metadata": {
    "collapsed": false,
    "pycharm": {
     "name": "#%%\n"
    }
   }
  },
  {
   "cell_type": "markdown",
   "source": [
    "#### Analizing the attributes"
   ],
   "metadata": {
    "collapsed": false
   }
  },
  {
   "cell_type": "code",
   "execution_count": null,
   "outputs": [],
   "source": [
    "df_base.head()"
   ],
   "metadata": {
    "collapsed": false,
    "pycharm": {
     "name": "#%%\n"
    }
   }
  },
  {
   "cell_type": "code",
   "execution_count": null,
   "outputs": [],
   "source": [
    "df_base.describe()"
   ],
   "metadata": {
    "collapsed": false,
    "pycharm": {
     "name": "#%%\n"
    }
   }
  },
  {
   "cell_type": "code",
   "execution_count": null,
   "outputs": [],
   "source": [
    "df_base.IDHM_R.hist(legend=True)\n",
    "df_base.IDHM_E.hist(legend=True)\n",
    "df_base.IDHM_L.hist(legend=True)"
   ],
   "metadata": {
    "collapsed": false,
    "pycharm": {
     "name": "#%%\n"
    }
   }
  },
  {
   "cell_type": "code",
   "execution_count": null,
   "outputs": [],
   "source": [
    "df_base.TAXA_CASOS_100_MIL.hist(legend=True)"
   ],
   "metadata": {
    "collapsed": false,
    "pycharm": {
     "name": "#%%\n"
    }
   }
  },
  {
   "cell_type": "code",
   "execution_count": null,
   "outputs": [],
   "source": [
    "df_base.TAXA_OBITOS_100_MIL.hist(legend=True)"
   ],
   "metadata": {
    "collapsed": false,
    "pycharm": {
     "name": "#%%\n"
    }
   }
  },
  {
   "cell_type": "code",
   "execution_count": null,
   "outputs": [],
   "source": [
    "df_base.POPULACAO_ESTIMADA.hist(legend=True)"
   ],
   "metadata": {
    "collapsed": false,
    "pycharm": {
     "name": "#%%\n"
    }
   }
  },
  {
   "cell_type": "code",
   "execution_count": null,
   "outputs": [],
   "source": [
    "df_base.TAXA_LETALIDADE.hist(legend=True)\n",
    "df_base.plot.scatter('IDHM_E', 'IDHM_R')\n",
    "df_base.plot.scatter('IDHM_R', 'IDHM_L')\n",
    "df_base.plot.scatter('IDHM_E', 'IDHM_L')\n",
    "df_base.plot.scatter('IDHM_R', 'TAXA_CASOS_100_MIL')\n",
    "df_base.plot.scatter('IDHM_R', 'TAXA_OBITOS_100_MIL')\n",
    "df_base.plot.scatter('IDHM_R', 'TAXA_LETALIDADE')\n",
    "df_base.plot.scatter('TAXA_OBITOS_100_MIL', 'TAXA_CASOS_100_MIL')\n",
    "df_base.plot.scatter('TAXA_LETALIDADE', 'TAXA_OBITOS_100_MIL')\n",
    "df_base.plot.scatter('TAXA_CASOS_100_MIL', 'TAXA_LETALIDADE')\n",
    "df_base.plot.scatter('POPULACAO_ESTIMADA', 'IDHM_E')\n",
    "df_base.plot.scatter('POPULACAO_ESTIMADA', 'IDHM_R')\n",
    "df_base.plot.scatter('POPULACAO_ESTIMADA', 'IDHM_L')\n",
    "df_base.plot.scatter('POPULACAO_ESTIMADA', 'TAXA_OBITOS_100_MIL')\n",
    "df_base.plot.scatter('POPULACAO_ESTIMADA', 'TAXA_CASOS_100_MIL')\n",
    "df_base.plot.scatter('POPULACAO_ESTIMADA', 'TAXA_LETALIDADE')"
   ],
   "metadata": {
    "collapsed": false,
    "pycharm": {
     "name": "#%%\n"
    }
   }
  },
  {
   "cell_type": "code",
   "execution_count": null,
   "outputs": [],
   "source": [
    "df_base.boxplot(column=[\"IDHM_R\", \"IDHM_E\", \"IDHM_L\"])"
   ],
   "metadata": {
    "collapsed": false,
    "pycharm": {
     "name": "#%%\n"
    }
   }
  },
  {
   "cell_type": "code",
   "execution_count": null,
   "outputs": [],
   "source": [
    "df_base.boxplot(column=[\"POPULACAO_ESTIMADA\"])"
   ],
   "metadata": {
    "collapsed": false,
    "pycharm": {
     "name": "#%%\n"
    }
   }
  },
  {
   "cell_type": "code",
   "execution_count": null,
   "outputs": [],
   "source": [
    "df_base.boxplot(column=\"TAXA_LETALIDADE\")"
   ],
   "metadata": {
    "collapsed": false,
    "pycharm": {
     "name": "#%%\n"
    }
   }
  },
  {
   "cell_type": "code",
   "execution_count": null,
   "outputs": [],
   "source": [
    "df_base.boxplot(column=[\"TAXA_OBITOS_100_MIL\"])"
   ],
   "metadata": {
    "collapsed": false,
    "pycharm": {
     "name": "#%%\n"
    }
   }
  },
  {
   "cell_type": "code",
   "execution_count": null,
   "outputs": [],
   "source": [
    "df_base.boxplot(column=[\"TAXA_CASOS_100_MIL\"])"
   ],
   "metadata": {
    "collapsed": false,
    "pycharm": {
     "name": "#%%\n"
    }
   }
  },
  {
   "cell_type": "markdown",
   "source": [
    "#### Removing outliers"
   ],
   "metadata": {
    "collapsed": false
   }
  },
  {
   "cell_type": "code",
   "execution_count": null,
   "outputs": [],
   "source": [
    "def remove_outlier(df_in, col_name):\n",
    "    q1 = df_in[col_name].quantile(0.25)\n",
    "    q3 = df_in[col_name].quantile(0.75)\n",
    "    iqr = q3-q1 #Interquartile range\n",
    "    fence_low  = q1-1.5*iqr\n",
    "    fence_high = q3+1.5*iqr\n",
    "    df_out = df_in.loc[(df_in[col_name] > fence_low) & (df_in[col_name] < fence_high)]\n",
    "    return df_out\n"
   ],
   "metadata": {
    "collapsed": false,
    "pycharm": {
     "name": "#%%\n"
    }
   }
  },
  {
   "cell_type": "markdown",
   "source": [
    "#### Drop missing values, normalizing data, and selecting attributes"
   ],
   "metadata": {
    "collapsed": false,
    "pycharm": {
     "name": "#%% md\n"
    }
   }
  },
  {
   "cell_type": "code",
   "execution_count": null,
   "outputs": [],
   "source": [
    "df_base = df_base.dropna()\n",
    "\n",
    "df_antecedents_not_normalized = df_base[['POPULACAO_ESTIMADA', 'IDHM', 'IDHM_E', 'IDHM_L',\n",
    "                                         'IDHM_R', 'PINTERDRSAI', 'REN_RENSF_D', 'REN_TRPCBF_D', 'REN_PVAADM',\n",
    "                                         'REN_PVAAGR', 'REN_PVAIND', 'REN_PVASERV', 'TXCOBPLP', 'REGIAO_METROPOLITANA', 'FECTOT',\n",
    "                                         'CORTE1','CORTE2', 'CORTE3','CORTE4','CORTE9','GINI', 'PIND', 'PMPOB', 'PPOB',\n",
    "                                         'PREN10RICOS', 'PREN20','PREN20RICOS', 'PREN40','PREN60','PREN80', 'PRENTRAB',\n",
    "                                         'R1040','R2040', 'RDPC1','RDPC10','RDPC2','RDPC3','RDPC4', 'RDPC5','RDPCT',\n",
    "                                         'RIND','RMPOB','RPOB','THEIL', 'CPR','EMP','P_AGRO','P_COM','P_CONSTR','P_EXTR',\n",
    "                    'P_FORMAL', 'P_SERV', 'P_TRANSF', 'REN0','REN1','REN2','REN3','REN5', 'T_ATIV', 'T_DES',\n",
    "                    'THEILTRAB', 'TRABCC','TRABPUB','TRABSC', 'T_AGUA','T_BANAGUA', 'T_DENS', 'T_LUZ','AGUA_ESGOTO',\n",
    "                    'T_OCUPDESLOC_1', 'PEA', 'RAZAO_HOMEM_MULHER',\n",
    "                                         'RAZAO_POPULACAO_RURAL_URBANA', 'PERCENTUAL_POPULACAO_17_OU_MENOS_ANOS',\n",
    "                                         'PERCENTUAL_POPULACAO_18_ATE_39_ANOS', 'PERCENTUAL_POPULACAO_40_ATE_59_ANOS',\n",
    "                                         'PERCENTUAL_POPULACAO_60_OU_MAIS_ANOS', 'RAZDEP',\n",
    "                                         'PERCENTUAL_POPULACAO_SEDE_MUNICIPAL', 'DENSIDADE', 'DENSIDADE_DOMICILIOS',\n",
    "                                         'PERCENTUAL_DOMICILIOS_AGLOMERADOS', 'PERCENTUAL_POPULACAO_AGLOMERADOS',\n",
    "                                         'DENSIDADE_DOMICILIOS_ESTIMADA', 'PER_AGSN', 'PERCENTUAL_VOTOS_BOLSONARO',\n",
    "                                         'PERCENTUAL_VOTOS_HADDAD', 'CAPITAL',\n",
    "                                         'PERCENTUAL_COBERTURA_ESTRATEGIA_SAUDE_FAMILIA',\n",
    "                                         'PERCENTUAL_COBERTURA_AGENTES_COMUNITARIOS_SAUDE',\n",
    "                                         'TAXA_LEITOS_INTERNACAO_100_MIL',\n",
    "                                         'TAXA_LEITOS_UTI_100_MIL',\n",
    "                                         'TAXA_MEDICOS_100_MIL',\n",
    "                                         'TAXA_ENFERMEIROS_100_MIL', 'TAXA_VENTILADORES_REPIRADORES_EM_USO_100_MIL']]\n",
    "scaler_antecedents = preprocessing.MinMaxScaler()\n",
    "antecedents_normalized = scaler_antecedents.fit_transform(df_antecedents_not_normalized.values)\n",
    "df_antecedents = pd.DataFrame(antecedents_normalized, columns=df_antecedents_not_normalized.columns)\n",
    "\n",
    "df_consequents_not_normalized = df_base[['TAXA_CASOS_100_MIL', 'TAXA_OBITOS_100_MIL', 'TAXA_LETALIDADE']]\n",
    "scaler_concequents = preprocessing.MinMaxScaler()\n",
    "concequents_normalized = scaler_concequents.fit_transform(df_consequents_not_normalized.values)\n",
    "df_concequents = pd.DataFrame(concequents_normalized, columns=df_consequents_not_normalized.columns)"
   ],
   "metadata": {
    "collapsed": false,
    "pycharm": {
     "name": "#%%\n"
    }
   }
  },
  {
   "cell_type": "code",
   "execution_count": null,
   "outputs": [],
   "source": [
    "df_antecedents.IDHM_R.hist(legend=True)\n",
    "df_antecedents.IDHM_E.hist(legend=True)\n",
    "df_antecedents.IDHM_L.hist(legend=True)\n",
    "df_antecedents.POPULACAO_ESTIMADA.hist(legend=True)"
   ],
   "metadata": {
    "collapsed": false,
    "pycharm": {
     "name": "#%%\n"
    }
   }
  },
  {
   "cell_type": "code",
   "execution_count": null,
   "outputs": [],
   "source": [
    "df_concequents.TAXA_CASOS_100_MIL.hist(legend=True)"
   ],
   "metadata": {
    "collapsed": false,
    "pycharm": {
     "name": "#%%\n"
    }
   }
  },
  {
   "cell_type": "code",
   "execution_count": null,
   "outputs": [],
   "source": [
    "df_concequents.TAXA_OBITOS_100_MIL.hist(legend=True)"
   ],
   "metadata": {
    "collapsed": false,
    "pycharm": {
     "name": "#%%\n"
    }
   }
  },
  {
   "cell_type": "code",
   "execution_count": null,
   "outputs": [],
   "source": [
    "df_concequents.TAXA_LETALIDADE.hist(legend=True)"
   ],
   "metadata": {
    "collapsed": false,
    "pycharm": {
     "name": "#%%\n"
    }
   }
  },
  {
   "cell_type": "markdown",
   "source": [
    "#### Executing fcmenas"
   ],
   "metadata": {
    "collapsed": false
   }
  },
  {
   "cell_type": "code",
   "execution_count": null,
   "outputs": [],
   "source": [
    "from random import randrange\n",
    "\n",
    "\n",
    "def plot_clusters(centers, u, x_not_normalized, y_not_normalized, df_not_normalized, scaler):\n",
    "    cluster_membership = np.argmax(u, axis=0)  # Hardening for visualization\n",
    "    fig, ax = plt.subplots()\n",
    "\n",
    "    for j in range(len(centers)):\n",
    "        ax.plot(x_not_normalized.values[cluster_membership == j],\n",
    "                y_not_normalized.values[cluster_membership == j], '.', label=\"Cluster \" + str(j))\n",
    "        ax.set_xlabel(x_not_normalized.name)\n",
    "        ax.set_ylabel(y_not_normalized.name)\n",
    "    ax.legend()\n",
    "\n",
    "    centers_not_normalized = scaler.inverse_transform(centers)\n",
    "    xi = df_not_normalized.columns.get_loc(x_not_normalized.name)\n",
    "    yi = df_not_normalized.columns.get_loc(y_not_normalized.name)\n",
    "    for pt in centers_not_normalized:\n",
    "        ax.plot(pt[xi], pt[yi], 'rs')\n",
    "\n",
    "    plt.show()\n",
    "\n",
    "\n",
    "def describe_clusters(centers, u, df_not_normalized):\n",
    "    cluster_membership = np.argmax(u, axis=0)\n",
    "    for j in range(len(centers)):\n",
    "        print(\"===================Cluster {0}==================\".format(j))\n",
    "        for column  in df_not_normalized.columns:\n",
    "            print(df_not_normalized[cluster_membership == j][column].describe())\n",
    "            print(\"\\n\")\n",
    "\n",
    "\n",
    "def show_results(ra, centers, u, fpc, df_not_normalized, scaler, df_analysis):\n",
    "    if ra is not None:\n",
    "        print('RA = {0} - Subtractive Centers = {1}; FPC = {2:.2f}'.format(ra, len(centers), fpc))\n",
    "    else:\n",
    "        print('Centers = {0}; FPC = {1:.2f}'.format(len(centers), fpc))\n",
    "    attributes = df_not_normalized.columns\n",
    "\n",
    "    # for i in range(len(attributes) - 1):\n",
    "    #     for j in range(i + 1, len(attributes)):\n",
    "    #         plot_clusters(centers, u, df_not_normalized[attributes[i]], df_not_normalized[attributes[j]],\n",
    "    #                       df_not_normalized, scaler)\n",
    "    i = randrange(len(attributes))\n",
    "    j = randrange(len(attributes))\n",
    "    plot_clusters(centers, u, df_not_normalized[attributes[i]], df_not_normalized[attributes[j]], df_not_normalized,\n",
    "                  scaler)\n",
    "\n",
    "    print(\"Describing clusters\")\n",
    "    describe_clusters(centers, u, df_not_normalized)\n",
    "\n",
    "    print(\"Describing results\")\n",
    "    describe_clusters(centers, u, df_analysis)"
   ],
   "metadata": {
    "collapsed": false,
    "pycharm": {
     "name": "#%%\n"
    }
   }
  },
  {
   "cell_type": "code",
   "execution_count": null,
   "outputs": [],
   "source": [
    "m = 2\n",
    "epsilon = 10 ** (-4)\n"
   ],
   "metadata": {
    "collapsed": false,
    "pycharm": {
     "name": "#%%\n"
    }
   }
  },
  {
   "cell_type": "code",
   "execution_count": null,
   "outputs": [],
   "source": [
    "# ra_25=0.25\n",
    "# centers_25, u_25, u0, d, jm, p, fpc_25 = cluster.cmeans(\n",
    "#     df_antecedents.values.T, c=None, m=m, error=epsilon, maxiter=1000, init=None,\n",
    "#     subtractive_clustering_influence_range=ra_25)"
   ],
   "metadata": {
    "collapsed": false,
    "pycharm": {
     "name": "#%%\n"
    }
   }
  },
  {
   "cell_type": "code",
   "execution_count": null,
   "outputs": [],
   "source": [
    "# centers_25_c, u_25_c, u0, d, jm, p, fpc_25_c = cluster.cmeans(\n",
    "#     df_concequents.values.T, c=None, m=m, error=epsilon, maxiter=1000, init=None,\n",
    "#     subtractive_clustering_influence_range=ra_25)"
   ],
   "metadata": {
    "collapsed": false,
    "pycharm": {
     "name": "#%%\n"
    }
   }
  },
  {
   "cell_type": "code",
   "execution_count": null,
   "outputs": [],
   "source": [
    "# show_results(ra_25, centers_25, u_25, fpc_25, df_antecedents_not_normalized, scaler_antecedents)\n",
    "# show_results(ra_25, centers_25_c, u_25_c, fpc_25_c, df_consequents_not_normalized, scaler_concequents)"
   ],
   "metadata": {
    "collapsed": false,
    "pycharm": {
     "name": "#%%\n"
    }
   }
  },
  {
   "cell_type": "code",
   "execution_count": null,
   "outputs": [],
   "source": [
    "# ra_19=0.19\n",
    "# centers_19, u_19, u0, d, jm, p, fpc_19 = cluster.cmeans(\n",
    "#     df_antecedents.values.T, c=None, m=m, error=epsilon, maxiter=1000, init=None,\n",
    "#     subtractive_clustering_influence_range=ra_19)"
   ],
   "metadata": {
    "collapsed": false,
    "pycharm": {
     "name": "#%%\n"
    }
   }
  },
  {
   "cell_type": "code",
   "execution_count": null,
   "outputs": [],
   "source": [
    "# centers_19_c, u_19_c, u0, d, jm, p, fpc_19_c = cluster.cmeans(\n",
    "#     df_concequents.values.T, c=None, m=m, error=epsilon, maxiter=1000, init=None,\n",
    "#     subtractive_clustering_influence_range=ra_19)"
   ],
   "metadata": {
    "collapsed": false,
    "pycharm": {
     "name": "#%%\n"
    }
   }
  },
  {
   "cell_type": "code",
   "execution_count": null,
   "outputs": [],
   "source": [
    "# show_results(ra_19, centers_19, u_19, fpc_19, df_antecedents_not_normalized, scaler_antecedents)\n",
    "# show_results(ra_19, centers_19_c, u_19_c, fpc_19_c, df_consequents_not_normalized, scaler_concequents)\n",
    "#"
   ],
   "metadata": {
    "collapsed": false,
    "pycharm": {
     "name": "#%%\n"
    }
   }
  },
  {
   "cell_type": "code",
   "execution_count": null,
   "outputs": [],
   "source": [
    "centers_2, u_2, u0, d, jm, p, fpc_2 = cluster.cmeans(\n",
    "    df_antecedents.values.T, c=2, m=m, error=epsilon, maxiter=1000, init=None)"
   ],
   "metadata": {
    "collapsed": false,
    "pycharm": {
     "name": "#%%\n"
    }
   }
  },
  {
   "cell_type": "code",
   "execution_count": null,
   "outputs": [],
   "source": [
    "centers_2_c, u_2_c, u0, d, jm, p, fpc_2_c = cluster.cmeans(\n",
    "    df_concequents.values.T, c=2, m=m, error=epsilon, maxiter=1000, init=None)"
   ],
   "metadata": {
    "collapsed": false,
    "pycharm": {
     "name": "#%%\n"
    }
   }
  },
  {
   "cell_type": "code",
   "execution_count": null,
   "outputs": [],
   "source": [
    "show_results(None, centers_2, u_2, fpc_2, df_antecedents_not_normalized, scaler_antecedents, df_consequents_not_normalized)\n",
    "show_results(None, centers_2_c, u_2_c, fpc_2_c, df_consequents_not_normalized, scaler_concequents, df_antecedents_not_normalized)"
   ],
   "metadata": {
    "collapsed": false,
    "pycharm": {
     "name": "#%%\n"
    }
   }
  },
  {
   "cell_type": "code",
   "execution_count": null,
   "outputs": [],
   "source": [
    "centers_3, u_3, u0, d, jm, p, fpc_3 = cluster.cmeans(\n",
    "    df_antecedents.values.T, c=3, m=m, error=epsilon, maxiter=1000, init=None)"
   ],
   "metadata": {
    "collapsed": false,
    "pycharm": {
     "name": "#%%\n"
    }
   }
  },
  {
   "cell_type": "code",
   "execution_count": null,
   "outputs": [],
   "source": [
    "centers_3_c, u_3_c, u0, d, jm, p, fpc_3_c = cluster.cmeans(\n",
    "    df_concequents.values.T, c=3, m=m, error=epsilon, maxiter=1000, init=None)"
   ],
   "metadata": {
    "collapsed": false,
    "pycharm": {
     "name": "#%%\n"
    }
   }
  },
  {
   "cell_type": "code",
   "execution_count": null,
   "outputs": [],
   "source": [
    "show_results(None, centers_3, u_3, fpc_3, df_antecedents_not_normalized, scaler_antecedents, df_consequents_not_normalized)\n",
    "show_results(None, centers_3_c, u_3_c, fpc_3_c, df_consequents_not_normalized, scaler_concequents, df_antecedents_not_normalized)"
   ],
   "metadata": {
    "collapsed": false,
    "pycharm": {
     "name": "#%%\n"
    }
   }
  },
  {
   "cell_type": "code",
   "execution_count": null,
   "outputs": [],
   "source": [
    "centers_4, u_4, u0, d, jm, p, fpc_4 = cluster.cmeans(\n",
    "    df_antecedents.values.T, c=4, m=m, error=epsilon, maxiter=1000, init=None)"
   ],
   "metadata": {
    "collapsed": false,
    "pycharm": {
     "name": "#%%\n"
    }
   }
  },
  {
   "cell_type": "code",
   "execution_count": null,
   "outputs": [],
   "source": [
    "centers_4_c, u_4_c, u0, d, jm, p, fpc_4_c = cluster.cmeans(\n",
    "    df_concequents.values.T, c=4, m=m, error=epsilon, maxiter=1000, init=None)"
   ],
   "metadata": {
    "collapsed": false,
    "pycharm": {
     "name": "#%%\n"
    }
   }
  },
  {
   "cell_type": "code",
   "execution_count": null,
   "outputs": [],
   "source": [
    "show_results(None, centers_4, u_4, fpc_4, df_antecedents_not_normalized, scaler_antecedents, df_consequents_not_normalized)\n",
    "show_results(None, centers_4_c, u_4_c, fpc_4_c, df_consequents_not_normalized, scaler_concequents, df_antecedents_not_normalized)"
   ],
   "metadata": {
    "collapsed": false,
    "pycharm": {
     "name": "#%%\n"
    }
   }
  }
 ],
 "metadata": {
  "kernelspec": {
   "display_name": "Python 3",
   "language": "python",
   "name": "python3"
  },
  "language_info": {
   "codemirror_mode": {
    "name": "ipython",
    "version": 2
   },
   "file_extension": ".py",
   "mimetype": "text/x-python",
   "name": "python",
   "nbconvert_exporter": "python",
   "pygments_lexer": "ipython2",
   "version": "2.7.6"
  }
 },
 "nbformat": 4,
 "nbformat_minor": 0
}