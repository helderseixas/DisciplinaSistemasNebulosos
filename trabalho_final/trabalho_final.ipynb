{
 "cells": [
  {
   "cell_type": "markdown",
   "metadata": {
    "collapsed": true,
    "pycharm": {
     "name": "#%% md\n"
    }
   },
   "source": [
    "# Trabalho Final\n",
    "\n",
    "## Utilizando agrupamento nebuloso para analisar relação das vulnerabilidades demográficas e socioeconômicas dos municípios brasileiros com os efeitos da Covid-19\n",
    "\n",
    "### Preparação dos dados "
   ]
  },
  {
   "cell_type": "code",
   "execution_count": 1,
   "outputs": [],
   "source": [
    "import pandas as pd"
   ],
   "metadata": {
    "collapsed": false,
    "pycharm": {
     "name": "#%%\n"
    }
   }
  },
  {
   "cell_type": "markdown",
   "source": [
    "#### Registros administrativos"
   ],
   "metadata": {
    "collapsed": false,
    "pycharm": {
     "name": "#%% md\n"
    }
   }
  },
  {
   "cell_type": "code",
   "execution_count": 2,
   "outputs": [],
   "source": [
    "df_registros_administrativos =  pd.read_csv('dados/registros_administrativos.csv', decimal=',', sep=';')"
   ],
   "metadata": {
    "collapsed": false,
    "pycharm": {
     "name": "#%%\n"
    }
   }
  },
  {
   "cell_type": "code",
   "execution_count": 3,
   "outputs": [
    {
     "data": {
      "text/plain": "    ANO DESAGREGACAO    IBGE7                        NOME  PMATPUB_EF  \\\n0  2013        TOTAL  1100015  Alta Floresta D&apos;Oeste       99.26   \n1  2013        TOTAL  1100023                   Ariquemes       91.12   \n2  2013        TOTAL  1100031                      Cabixi      100.00   \n3  2013        TOTAL  1100049                      Cacoal       85.55   \n4  2013        TOTAL  1100056                  Cerejeiras       97.18   \n\n   PMATPUB_EM  PMATPRI_EF  PMATPRI_EM  DIST_EF_TOTAL  DIST_EM_TOTAL  ...  \\\n0      100.00        0.74         NaN           25.8           29.6  ...   \n1       94.80        8.88        5.20           24.5           27.1  ...   \n2      100.00         NaN         NaN           18.1           18.7  ...   \n3       82.90       14.45       17.10           19.3           24.6  ...   \n4       97.47        2.82        2.53           21.1           21.1  ...   \n\n   SNIS_CDI  PFOCOS  PFLORA  PFEM_VEREADOR  PFEM_PREFEITO  PFEM_GOVERNADOR  \\\n0     100.0    0.51   66.02          20.00            0.0              NaN   \n1     100.0    0.49   34.67           7.69            0.0              NaN   \n2     100.0    0.13   32.01          11.11            0.0              NaN   \n3     100.0    0.13   37.07           8.33            0.0              NaN   \n4       NaN    0.19   63.12           0.00            0.0              NaN   \n\n   PFEM_DEP_ESTADUAL  PFEM_DEP_FEDERAL  PFEM_SENADOR  POP_TOT  \n0                NaN               NaN           NaN    25728  \n1                NaN               NaN           NaN   101269  \n2                NaN               NaN           NaN     6495  \n3                NaN               NaN           NaN    85863  \n4                NaN               NaN           NaN    18041  \n\n[5 rows x 82 columns]",
      "text/html": "<div>\n<style scoped>\n    .dataframe tbody tr th:only-of-type {\n        vertical-align: middle;\n    }\n\n    .dataframe tbody tr th {\n        vertical-align: top;\n    }\n\n    .dataframe thead th {\n        text-align: right;\n    }\n</style>\n<table border=\"1\" class=\"dataframe\">\n  <thead>\n    <tr style=\"text-align: right;\">\n      <th></th>\n      <th>ANO</th>\n      <th>DESAGREGACAO</th>\n      <th>IBGE7</th>\n      <th>NOME</th>\n      <th>PMATPUB_EF</th>\n      <th>PMATPUB_EM</th>\n      <th>PMATPRI_EF</th>\n      <th>PMATPRI_EM</th>\n      <th>DIST_EF_TOTAL</th>\n      <th>DIST_EM_TOTAL</th>\n      <th>...</th>\n      <th>SNIS_CDI</th>\n      <th>PFOCOS</th>\n      <th>PFLORA</th>\n      <th>PFEM_VEREADOR</th>\n      <th>PFEM_PREFEITO</th>\n      <th>PFEM_GOVERNADOR</th>\n      <th>PFEM_DEP_ESTADUAL</th>\n      <th>PFEM_DEP_FEDERAL</th>\n      <th>PFEM_SENADOR</th>\n      <th>POP_TOT</th>\n    </tr>\n  </thead>\n  <tbody>\n    <tr>\n      <th>0</th>\n      <td>2013</td>\n      <td>TOTAL</td>\n      <td>1100015</td>\n      <td>Alta Floresta D&amp;apos;Oeste</td>\n      <td>99.26</td>\n      <td>100.00</td>\n      <td>0.74</td>\n      <td>NaN</td>\n      <td>25.8</td>\n      <td>29.6</td>\n      <td>...</td>\n      <td>100.0</td>\n      <td>0.51</td>\n      <td>66.02</td>\n      <td>20.00</td>\n      <td>0.0</td>\n      <td>NaN</td>\n      <td>NaN</td>\n      <td>NaN</td>\n      <td>NaN</td>\n      <td>25728</td>\n    </tr>\n    <tr>\n      <th>1</th>\n      <td>2013</td>\n      <td>TOTAL</td>\n      <td>1100023</td>\n      <td>Ariquemes</td>\n      <td>91.12</td>\n      <td>94.80</td>\n      <td>8.88</td>\n      <td>5.20</td>\n      <td>24.5</td>\n      <td>27.1</td>\n      <td>...</td>\n      <td>100.0</td>\n      <td>0.49</td>\n      <td>34.67</td>\n      <td>7.69</td>\n      <td>0.0</td>\n      <td>NaN</td>\n      <td>NaN</td>\n      <td>NaN</td>\n      <td>NaN</td>\n      <td>101269</td>\n    </tr>\n    <tr>\n      <th>2</th>\n      <td>2013</td>\n      <td>TOTAL</td>\n      <td>1100031</td>\n      <td>Cabixi</td>\n      <td>100.00</td>\n      <td>100.00</td>\n      <td>NaN</td>\n      <td>NaN</td>\n      <td>18.1</td>\n      <td>18.7</td>\n      <td>...</td>\n      <td>100.0</td>\n      <td>0.13</td>\n      <td>32.01</td>\n      <td>11.11</td>\n      <td>0.0</td>\n      <td>NaN</td>\n      <td>NaN</td>\n      <td>NaN</td>\n      <td>NaN</td>\n      <td>6495</td>\n    </tr>\n    <tr>\n      <th>3</th>\n      <td>2013</td>\n      <td>TOTAL</td>\n      <td>1100049</td>\n      <td>Cacoal</td>\n      <td>85.55</td>\n      <td>82.90</td>\n      <td>14.45</td>\n      <td>17.10</td>\n      <td>19.3</td>\n      <td>24.6</td>\n      <td>...</td>\n      <td>100.0</td>\n      <td>0.13</td>\n      <td>37.07</td>\n      <td>8.33</td>\n      <td>0.0</td>\n      <td>NaN</td>\n      <td>NaN</td>\n      <td>NaN</td>\n      <td>NaN</td>\n      <td>85863</td>\n    </tr>\n    <tr>\n      <th>4</th>\n      <td>2013</td>\n      <td>TOTAL</td>\n      <td>1100056</td>\n      <td>Cerejeiras</td>\n      <td>97.18</td>\n      <td>97.47</td>\n      <td>2.82</td>\n      <td>2.53</td>\n      <td>21.1</td>\n      <td>21.1</td>\n      <td>...</td>\n      <td>NaN</td>\n      <td>0.19</td>\n      <td>63.12</td>\n      <td>0.00</td>\n      <td>0.0</td>\n      <td>NaN</td>\n      <td>NaN</td>\n      <td>NaN</td>\n      <td>NaN</td>\n      <td>18041</td>\n    </tr>\n  </tbody>\n</table>\n<p>5 rows × 82 columns</p>\n</div>"
     },
     "execution_count": 3,
     "metadata": {},
     "output_type": "execute_result"
    }
   ],
   "source": [
    "df_registros_administrativos.head()"
   ],
   "metadata": {
    "collapsed": false,
    "pycharm": {
     "name": "#%%\n"
    }
   }
  },
  {
   "cell_type": "code",
   "execution_count": 4,
   "outputs": [
    {
     "data": {
      "text/plain": "                ANO         IBGE7    PMATPUB_EF    PMATPUB_EM    PMATPRI_EF  \\\ncount  27850.000000  2.785000e+04  27850.000000  27803.000000  15071.000000   \nmean    2015.000000  3.253591e+06     94.735386     96.829962      9.728589   \nstd        1.414239  9.848396e+05      7.657890      6.599939      8.058558   \nmin     2013.000000  1.100015e+06     46.030000     25.450000      0.020000   \n25%     2014.000000  2.512101e+06     91.420000     96.545000      3.400000   \n50%     2015.000000  3.146280e+06     99.000000    100.000000      7.840000   \n75%     2016.000000  4.119202e+06    100.000000    100.000000     13.900000   \nmax     2017.000000  5.300108e+06    100.000000    100.000000     53.970000   \n\n        PMATPRI_EM  DIST_EF_TOTAL  DIST_EM_TOTAL  DIST_EF_PRI  DIST_EM_PRI  \\\ncount  7944.000000   27847.000000   27797.000000  7603.000000  4600.000000   \nmean     11.094739      20.118253      30.474443     4.695910     8.328783   \nstd       8.033184      10.644338      14.119035     6.801123    12.069058   \nmin       0.090000       0.000000       0.000000     0.000000     0.000000   \n25%       5.240000      11.500000      19.900000     1.700000     2.800000   \n50%       9.185000      18.500000      29.000000     3.200000     5.100000   \n75%      14.902500      27.900000      39.800000     5.800000     8.800000   \nmax      74.550000      66.000000      84.400000   100.000000   100.000000   \n\n       ...      SNIS_CDI        PFOCOS        PFLORA  PFEM_VEREADOR  \\\ncount  ...  18083.000000  27145.000000  27850.000000   27838.000000   \nmean   ...     97.313887      0.183969     38.760223      13.595285   \nstd    ...      9.058070      0.720546     27.381110      11.149825   \nmin    ...      0.860000      0.000000      0.000000       0.000000   \n25%    ...     99.900000      0.010000     14.970000       6.670000   \n50%    ...    100.000000      0.020000     32.500000      11.110000   \n75%    ...    100.000000      0.080000     60.440000      22.220000   \nmax    ...    100.000000     32.190000     99.710000      66.670000   \n\n       PFEM_PREFEITO  PFEM_GOVERNADOR  PFEM_DEP_ESTADUAL  PFEM_DEP_FEDERAL  \\\ncount   27788.000000              0.0                0.0               0.0   \nmean       11.778466              NaN                NaN               NaN   \nstd        32.235876              NaN                NaN               NaN   \nmin         0.000000              NaN                NaN               NaN   \n25%         0.000000              NaN                NaN               NaN   \n50%         0.000000              NaN                NaN               NaN   \n75%         0.000000              NaN                NaN               NaN   \nmax       100.000000              NaN                NaN               NaN   \n\n       PFEM_SENADOR       POP_TOT  \ncount           0.0  2.785000e+04  \nmean            NaN  3.669636e+04  \nstd             NaN  2.155577e+05  \nmin             NaN  8.120000e+02  \n25%             NaN  5.449000e+03  \n50%             NaN  1.150500e+04  \n75%             NaN  2.490475e+04  \nmax             NaN  1.210692e+07  \n\n[8 rows x 80 columns]",
      "text/html": "<div>\n<style scoped>\n    .dataframe tbody tr th:only-of-type {\n        vertical-align: middle;\n    }\n\n    .dataframe tbody tr th {\n        vertical-align: top;\n    }\n\n    .dataframe thead th {\n        text-align: right;\n    }\n</style>\n<table border=\"1\" class=\"dataframe\">\n  <thead>\n    <tr style=\"text-align: right;\">\n      <th></th>\n      <th>ANO</th>\n      <th>IBGE7</th>\n      <th>PMATPUB_EF</th>\n      <th>PMATPUB_EM</th>\n      <th>PMATPRI_EF</th>\n      <th>PMATPRI_EM</th>\n      <th>DIST_EF_TOTAL</th>\n      <th>DIST_EM_TOTAL</th>\n      <th>DIST_EF_PRI</th>\n      <th>DIST_EM_PRI</th>\n      <th>...</th>\n      <th>SNIS_CDI</th>\n      <th>PFOCOS</th>\n      <th>PFLORA</th>\n      <th>PFEM_VEREADOR</th>\n      <th>PFEM_PREFEITO</th>\n      <th>PFEM_GOVERNADOR</th>\n      <th>PFEM_DEP_ESTADUAL</th>\n      <th>PFEM_DEP_FEDERAL</th>\n      <th>PFEM_SENADOR</th>\n      <th>POP_TOT</th>\n    </tr>\n  </thead>\n  <tbody>\n    <tr>\n      <th>count</th>\n      <td>27850.000000</td>\n      <td>2.785000e+04</td>\n      <td>27850.000000</td>\n      <td>27803.000000</td>\n      <td>15071.000000</td>\n      <td>7944.000000</td>\n      <td>27847.000000</td>\n      <td>27797.000000</td>\n      <td>7603.000000</td>\n      <td>4600.000000</td>\n      <td>...</td>\n      <td>18083.000000</td>\n      <td>27145.000000</td>\n      <td>27850.000000</td>\n      <td>27838.000000</td>\n      <td>27788.000000</td>\n      <td>0.0</td>\n      <td>0.0</td>\n      <td>0.0</td>\n      <td>0.0</td>\n      <td>2.785000e+04</td>\n    </tr>\n    <tr>\n      <th>mean</th>\n      <td>2015.000000</td>\n      <td>3.253591e+06</td>\n      <td>94.735386</td>\n      <td>96.829962</td>\n      <td>9.728589</td>\n      <td>11.094739</td>\n      <td>20.118253</td>\n      <td>30.474443</td>\n      <td>4.695910</td>\n      <td>8.328783</td>\n      <td>...</td>\n      <td>97.313887</td>\n      <td>0.183969</td>\n      <td>38.760223</td>\n      <td>13.595285</td>\n      <td>11.778466</td>\n      <td>NaN</td>\n      <td>NaN</td>\n      <td>NaN</td>\n      <td>NaN</td>\n      <td>3.669636e+04</td>\n    </tr>\n    <tr>\n      <th>std</th>\n      <td>1.414239</td>\n      <td>9.848396e+05</td>\n      <td>7.657890</td>\n      <td>6.599939</td>\n      <td>8.058558</td>\n      <td>8.033184</td>\n      <td>10.644338</td>\n      <td>14.119035</td>\n      <td>6.801123</td>\n      <td>12.069058</td>\n      <td>...</td>\n      <td>9.058070</td>\n      <td>0.720546</td>\n      <td>27.381110</td>\n      <td>11.149825</td>\n      <td>32.235876</td>\n      <td>NaN</td>\n      <td>NaN</td>\n      <td>NaN</td>\n      <td>NaN</td>\n      <td>2.155577e+05</td>\n    </tr>\n    <tr>\n      <th>min</th>\n      <td>2013.000000</td>\n      <td>1.100015e+06</td>\n      <td>46.030000</td>\n      <td>25.450000</td>\n      <td>0.020000</td>\n      <td>0.090000</td>\n      <td>0.000000</td>\n      <td>0.000000</td>\n      <td>0.000000</td>\n      <td>0.000000</td>\n      <td>...</td>\n      <td>0.860000</td>\n      <td>0.000000</td>\n      <td>0.000000</td>\n      <td>0.000000</td>\n      <td>0.000000</td>\n      <td>NaN</td>\n      <td>NaN</td>\n      <td>NaN</td>\n      <td>NaN</td>\n      <td>8.120000e+02</td>\n    </tr>\n    <tr>\n      <th>25%</th>\n      <td>2014.000000</td>\n      <td>2.512101e+06</td>\n      <td>91.420000</td>\n      <td>96.545000</td>\n      <td>3.400000</td>\n      <td>5.240000</td>\n      <td>11.500000</td>\n      <td>19.900000</td>\n      <td>1.700000</td>\n      <td>2.800000</td>\n      <td>...</td>\n      <td>99.900000</td>\n      <td>0.010000</td>\n      <td>14.970000</td>\n      <td>6.670000</td>\n      <td>0.000000</td>\n      <td>NaN</td>\n      <td>NaN</td>\n      <td>NaN</td>\n      <td>NaN</td>\n      <td>5.449000e+03</td>\n    </tr>\n    <tr>\n      <th>50%</th>\n      <td>2015.000000</td>\n      <td>3.146280e+06</td>\n      <td>99.000000</td>\n      <td>100.000000</td>\n      <td>7.840000</td>\n      <td>9.185000</td>\n      <td>18.500000</td>\n      <td>29.000000</td>\n      <td>3.200000</td>\n      <td>5.100000</td>\n      <td>...</td>\n      <td>100.000000</td>\n      <td>0.020000</td>\n      <td>32.500000</td>\n      <td>11.110000</td>\n      <td>0.000000</td>\n      <td>NaN</td>\n      <td>NaN</td>\n      <td>NaN</td>\n      <td>NaN</td>\n      <td>1.150500e+04</td>\n    </tr>\n    <tr>\n      <th>75%</th>\n      <td>2016.000000</td>\n      <td>4.119202e+06</td>\n      <td>100.000000</td>\n      <td>100.000000</td>\n      <td>13.900000</td>\n      <td>14.902500</td>\n      <td>27.900000</td>\n      <td>39.800000</td>\n      <td>5.800000</td>\n      <td>8.800000</td>\n      <td>...</td>\n      <td>100.000000</td>\n      <td>0.080000</td>\n      <td>60.440000</td>\n      <td>22.220000</td>\n      <td>0.000000</td>\n      <td>NaN</td>\n      <td>NaN</td>\n      <td>NaN</td>\n      <td>NaN</td>\n      <td>2.490475e+04</td>\n    </tr>\n    <tr>\n      <th>max</th>\n      <td>2017.000000</td>\n      <td>5.300108e+06</td>\n      <td>100.000000</td>\n      <td>100.000000</td>\n      <td>53.970000</td>\n      <td>74.550000</td>\n      <td>66.000000</td>\n      <td>84.400000</td>\n      <td>100.000000</td>\n      <td>100.000000</td>\n      <td>...</td>\n      <td>100.000000</td>\n      <td>32.190000</td>\n      <td>99.710000</td>\n      <td>66.670000</td>\n      <td>100.000000</td>\n      <td>NaN</td>\n      <td>NaN</td>\n      <td>NaN</td>\n      <td>NaN</td>\n      <td>1.210692e+07</td>\n    </tr>\n  </tbody>\n</table>\n<p>8 rows × 80 columns</p>\n</div>"
     },
     "execution_count": 4,
     "metadata": {},
     "output_type": "execute_result"
    }
   ],
   "source": [
    "df_registros_administrativos.describe()"
   ],
   "metadata": {
    "collapsed": false,
    "pycharm": {
     "name": "#%%\n"
    }
   }
  },
  {
   "cell_type": "code",
   "execution_count": 5,
   "outputs": [
    {
     "data": {
      "text/plain": "          ANO         IBGE7   PMATPUB_EF   PMATPUB_EM   PMATPRI_EF  \\\ncount  5570.0  5.570000e+03  5570.000000  5561.000000  3019.000000   \nmean   2017.0  3.253591e+06    94.461393    96.935407    10.218635   \nstd       0.0  9.849103e+05     7.986826     6.497215     8.358757   \nmin    2017.0  1.100015e+06    51.280000    25.450000     0.070000   \n25%    2017.0  2.512126e+06    90.822500    96.940000     3.610000   \n50%    2017.0  3.146280e+06    98.990000   100.000000     8.310000   \n75%    2017.0  4.119190e+06   100.000000   100.000000    14.510000   \nmax    2017.0  5.300108e+06   100.000000   100.000000    48.720000   \n\n        PMATPRI_EM  DIST_EF_TOTAL  DIST_EM_TOTAL  DIST_EF_PRI  DIST_EM_PRI  \\\ncount  1577.000000    5570.000000    5560.000000  2640.000000  1576.000000   \nmean     10.806722      18.716050      30.406421     4.329167     8.062690   \nstd       8.075071      10.050518      13.662076     6.816884    12.250456   \nmin       0.180000       0.000000       0.000000     0.000000     0.000000   \n25%       4.980000      10.600000      20.475000     1.400000     2.700000   \n50%       8.940000      17.000000      29.100000     2.900000     4.900000   \n75%      14.430000      26.200000      39.425000     5.400000     8.500000   \nmax      74.550000      58.900000      82.600000   100.000000   100.000000   \n\n       ...     SNIS_CDI       PFOCOS       PFLORA  PFEM_VEREADOR  \\\ncount  ...  3556.000000  5429.000000  5570.000000    5566.000000   \nmean   ...    97.554311     0.183877    38.732122      13.725992   \nstd    ...     8.139765     0.883934    27.189855      11.187382   \nmin    ...    20.150000     0.000000     0.000000       0.000000   \n25%    ...    99.770000     0.010000    15.112500       6.670000   \n50%    ...   100.000000     0.020000    32.325000      11.110000   \n75%    ...   100.000000     0.070000    60.270000      22.220000   \nmax    ...   100.000000    32.190000    99.670000      63.640000   \n\n       PFEM_PREFEITO  PFEM_GOVERNADOR  PFEM_DEP_ESTADUAL  PFEM_DEP_FEDERAL  \\\ncount    5520.000000              0.0                0.0               0.0   \nmean       11.539855              NaN                NaN               NaN   \nstd        31.953125              NaN                NaN               NaN   \nmin         0.000000              NaN                NaN               NaN   \n25%         0.000000              NaN                NaN               NaN   \n50%         0.000000              NaN                NaN               NaN   \n75%         0.000000              NaN                NaN               NaN   \nmax       100.000000              NaN                NaN               NaN   \n\n       PFEM_SENADOR       POP_TOT  \ncount           0.0  5.570000e+03  \nmean            NaN  3.728203e+04  \nstd             NaN  2.183999e+05  \nmin             NaN  8.120000e+02  \n25%             NaN  5.501500e+03  \n50%             NaN  1.163550e+04  \n75%             NaN  2.528975e+04  \nmax             NaN  1.210692e+07  \n\n[8 rows x 80 columns]",
      "text/html": "<div>\n<style scoped>\n    .dataframe tbody tr th:only-of-type {\n        vertical-align: middle;\n    }\n\n    .dataframe tbody tr th {\n        vertical-align: top;\n    }\n\n    .dataframe thead th {\n        text-align: right;\n    }\n</style>\n<table border=\"1\" class=\"dataframe\">\n  <thead>\n    <tr style=\"text-align: right;\">\n      <th></th>\n      <th>ANO</th>\n      <th>IBGE7</th>\n      <th>PMATPUB_EF</th>\n      <th>PMATPUB_EM</th>\n      <th>PMATPRI_EF</th>\n      <th>PMATPRI_EM</th>\n      <th>DIST_EF_TOTAL</th>\n      <th>DIST_EM_TOTAL</th>\n      <th>DIST_EF_PRI</th>\n      <th>DIST_EM_PRI</th>\n      <th>...</th>\n      <th>SNIS_CDI</th>\n      <th>PFOCOS</th>\n      <th>PFLORA</th>\n      <th>PFEM_VEREADOR</th>\n      <th>PFEM_PREFEITO</th>\n      <th>PFEM_GOVERNADOR</th>\n      <th>PFEM_DEP_ESTADUAL</th>\n      <th>PFEM_DEP_FEDERAL</th>\n      <th>PFEM_SENADOR</th>\n      <th>POP_TOT</th>\n    </tr>\n  </thead>\n  <tbody>\n    <tr>\n      <th>count</th>\n      <td>5570.0</td>\n      <td>5.570000e+03</td>\n      <td>5570.000000</td>\n      <td>5561.000000</td>\n      <td>3019.000000</td>\n      <td>1577.000000</td>\n      <td>5570.000000</td>\n      <td>5560.000000</td>\n      <td>2640.000000</td>\n      <td>1576.000000</td>\n      <td>...</td>\n      <td>3556.000000</td>\n      <td>5429.000000</td>\n      <td>5570.000000</td>\n      <td>5566.000000</td>\n      <td>5520.000000</td>\n      <td>0.0</td>\n      <td>0.0</td>\n      <td>0.0</td>\n      <td>0.0</td>\n      <td>5.570000e+03</td>\n    </tr>\n    <tr>\n      <th>mean</th>\n      <td>2017.0</td>\n      <td>3.253591e+06</td>\n      <td>94.461393</td>\n      <td>96.935407</td>\n      <td>10.218635</td>\n      <td>10.806722</td>\n      <td>18.716050</td>\n      <td>30.406421</td>\n      <td>4.329167</td>\n      <td>8.062690</td>\n      <td>...</td>\n      <td>97.554311</td>\n      <td>0.183877</td>\n      <td>38.732122</td>\n      <td>13.725992</td>\n      <td>11.539855</td>\n      <td>NaN</td>\n      <td>NaN</td>\n      <td>NaN</td>\n      <td>NaN</td>\n      <td>3.728203e+04</td>\n    </tr>\n    <tr>\n      <th>std</th>\n      <td>0.0</td>\n      <td>9.849103e+05</td>\n      <td>7.986826</td>\n      <td>6.497215</td>\n      <td>8.358757</td>\n      <td>8.075071</td>\n      <td>10.050518</td>\n      <td>13.662076</td>\n      <td>6.816884</td>\n      <td>12.250456</td>\n      <td>...</td>\n      <td>8.139765</td>\n      <td>0.883934</td>\n      <td>27.189855</td>\n      <td>11.187382</td>\n      <td>31.953125</td>\n      <td>NaN</td>\n      <td>NaN</td>\n      <td>NaN</td>\n      <td>NaN</td>\n      <td>2.183999e+05</td>\n    </tr>\n    <tr>\n      <th>min</th>\n      <td>2017.0</td>\n      <td>1.100015e+06</td>\n      <td>51.280000</td>\n      <td>25.450000</td>\n      <td>0.070000</td>\n      <td>0.180000</td>\n      <td>0.000000</td>\n      <td>0.000000</td>\n      <td>0.000000</td>\n      <td>0.000000</td>\n      <td>...</td>\n      <td>20.150000</td>\n      <td>0.000000</td>\n      <td>0.000000</td>\n      <td>0.000000</td>\n      <td>0.000000</td>\n      <td>NaN</td>\n      <td>NaN</td>\n      <td>NaN</td>\n      <td>NaN</td>\n      <td>8.120000e+02</td>\n    </tr>\n    <tr>\n      <th>25%</th>\n      <td>2017.0</td>\n      <td>2.512126e+06</td>\n      <td>90.822500</td>\n      <td>96.940000</td>\n      <td>3.610000</td>\n      <td>4.980000</td>\n      <td>10.600000</td>\n      <td>20.475000</td>\n      <td>1.400000</td>\n      <td>2.700000</td>\n      <td>...</td>\n      <td>99.770000</td>\n      <td>0.010000</td>\n      <td>15.112500</td>\n      <td>6.670000</td>\n      <td>0.000000</td>\n      <td>NaN</td>\n      <td>NaN</td>\n      <td>NaN</td>\n      <td>NaN</td>\n      <td>5.501500e+03</td>\n    </tr>\n    <tr>\n      <th>50%</th>\n      <td>2017.0</td>\n      <td>3.146280e+06</td>\n      <td>98.990000</td>\n      <td>100.000000</td>\n      <td>8.310000</td>\n      <td>8.940000</td>\n      <td>17.000000</td>\n      <td>29.100000</td>\n      <td>2.900000</td>\n      <td>4.900000</td>\n      <td>...</td>\n      <td>100.000000</td>\n      <td>0.020000</td>\n      <td>32.325000</td>\n      <td>11.110000</td>\n      <td>0.000000</td>\n      <td>NaN</td>\n      <td>NaN</td>\n      <td>NaN</td>\n      <td>NaN</td>\n      <td>1.163550e+04</td>\n    </tr>\n    <tr>\n      <th>75%</th>\n      <td>2017.0</td>\n      <td>4.119190e+06</td>\n      <td>100.000000</td>\n      <td>100.000000</td>\n      <td>14.510000</td>\n      <td>14.430000</td>\n      <td>26.200000</td>\n      <td>39.425000</td>\n      <td>5.400000</td>\n      <td>8.500000</td>\n      <td>...</td>\n      <td>100.000000</td>\n      <td>0.070000</td>\n      <td>60.270000</td>\n      <td>22.220000</td>\n      <td>0.000000</td>\n      <td>NaN</td>\n      <td>NaN</td>\n      <td>NaN</td>\n      <td>NaN</td>\n      <td>2.528975e+04</td>\n    </tr>\n    <tr>\n      <th>max</th>\n      <td>2017.0</td>\n      <td>5.300108e+06</td>\n      <td>100.000000</td>\n      <td>100.000000</td>\n      <td>48.720000</td>\n      <td>74.550000</td>\n      <td>58.900000</td>\n      <td>82.600000</td>\n      <td>100.000000</td>\n      <td>100.000000</td>\n      <td>...</td>\n      <td>100.000000</td>\n      <td>32.190000</td>\n      <td>99.670000</td>\n      <td>63.640000</td>\n      <td>100.000000</td>\n      <td>NaN</td>\n      <td>NaN</td>\n      <td>NaN</td>\n      <td>NaN</td>\n      <td>1.210692e+07</td>\n    </tr>\n  </tbody>\n</table>\n<p>8 rows × 80 columns</p>\n</div>"
     },
     "execution_count": 5,
     "metadata": {},
     "output_type": "execute_result"
    }
   ],
   "source": [
    "df_registros_administrativos = df_registros_administrativos[df_registros_administrativos.ANO == 2017]\n",
    "df_registros_administrativos.describe()\n"
   ],
   "metadata": {
    "collapsed": false,
    "pycharm": {
     "name": "#%%\n"
    }
   }
  },
  {
   "cell_type": "markdown",
   "source": [
    "PINTERDRSAI\tPercentual de internações por doenças relacionadas ao saneamento ambiental inadequado"
   ],
   "metadata": {
    "collapsed": false,
    "pycharm": {
     "name": "#%% md\n"
    }
   }
  },
  {
   "cell_type": "code",
   "execution_count": 6,
   "outputs": [
    {
     "data": {
      "text/plain": "count    5570.000000\nmean        3.159237\nstd         4.647302\nmin         0.000000\n25%         0.590000\n50%         1.460000\n75%         3.707500\nmax        58.030000\nName: PINTERDRSAI, dtype: float64"
     },
     "execution_count": 6,
     "metadata": {},
     "output_type": "execute_result"
    }
   ],
   "source": [
    "df_registros_administrativos.PINTERDRSAI.describe()"
   ],
   "metadata": {
    "collapsed": false,
    "pycharm": {
     "name": "#%%\n"
    }
   }
  },
  {
   "cell_type": "markdown",
   "source": [
    "PINTERSAP\tPercentual de internações por condições sensíveis à atenção primária"
   ],
   "metadata": {
    "collapsed": false,
    "pycharm": {
     "name": "#%% md\n"
    }
   }
  },
  {
   "cell_type": "code",
   "execution_count": 7,
   "outputs": [
    {
     "data": {
      "text/plain": "count    5570.000000\nmean       23.816684\nstd        10.743033\nmin         0.000000\n25%        16.082500\n50%        21.630000\n75%        29.157500\nmax        77.780000\nName: PINTERSAP, dtype: float64"
     },
     "execution_count": 7,
     "metadata": {},
     "output_type": "execute_result"
    }
   ],
   "source": [
    "df_registros_administrativos.PINTERSAP.describe()"
   ],
   "metadata": {
    "collapsed": false,
    "pycharm": {
     "name": "#%%\n"
    }
   }
  },
  {
   "cell_type": "markdown",
   "source": [
    "TXBRUTAMORT\tTaxa bruta de mortalidade"
   ],
   "metadata": {
    "collapsed": false,
    "pycharm": {
     "name": "#%% md\n"
    }
   }
  },
  {
   "cell_type": "code",
   "execution_count": 8,
   "outputs": [
    {
     "data": {
      "text/plain": "count    5568.000000\nmean        6.518770\nstd         1.812354\nmin         1.260000\n25%         5.330000\n50%         6.450000\n75%         7.660000\nmax        15.510000\nName: TXBRUTAMORT, dtype: float64"
     },
     "execution_count": 8,
     "metadata": {},
     "output_type": "execute_result"
    }
   ],
   "source": [
    "df_registros_administrativos.TXBRUTAMORT.describe()"
   ],
   "metadata": {
    "collapsed": false,
    "pycharm": {
     "name": "#%%\n"
    }
   }
  },
  {
   "cell_type": "markdown",
   "source": [
    "TXCOBPLP\tPercentual de pessoas cobertas por planos de saúde suplementar"
   ],
   "metadata": {
    "collapsed": false,
    "pycharm": {
     "name": "#%% md\n"
    }
   }
  },
  {
   "cell_type": "code",
   "execution_count": 9,
   "outputs": [
    {
     "data": {
      "text/plain": "count    5558.000000\nmean        8.352510\nstd        10.805886\nmin         0.010000\n25%         1.170000\n50%         3.830000\n75%        11.540000\nmax       221.600000\nName: TXCOBPLP, dtype: float64"
     },
     "execution_count": 9,
     "metadata": {},
     "output_type": "execute_result"
    }
   ],
   "source": [
    "df_registros_administrativos.TXCOBPLP.describe()"
   ],
   "metadata": {
    "collapsed": false,
    "pycharm": {
     "name": "#%%\n"
    }
   }
  },
  {
   "cell_type": "markdown",
   "source": [
    "#### IDHM"
   ],
   "metadata": {
    "collapsed": false
   }
  },
  {
   "cell_type": "code",
   "execution_count": 10,
   "outputs": [
    {
     "data": {
      "text/plain": "          TERRITORIALIDADE  POSICAO_IDHM   IDHM  POSICAO_IDHM_RENDA  \\\n0  São Caetano do Sul (SP)             1  0.862                   8   \n1  Águas de São Pedro (SP)             2  0.854                   5   \n2       Florianópolis (SC)             3  0.847                  22   \n3  Balneário Camboriú (SC)             4  0.845                   1   \n4             Vitória (ES)             4  0.845                  40   \n\n   IDHM_RENDA  POSICAO_IDHM_EDUCACAO  IDHM_EDUCACAO  POSICAO_IDHM_LONGEVIDADE  \\\n0       0.887                      2          0.811                         1   \n1       0.890                      1          0.825                        11   \n2       0.873                      5          0.800                         4   \n3       0.894                      6          0.789                         9   \n4       0.855                      4          0.805                         3   \n\n   IDHM_LONGEVIDADE  \n0             0.891  \n1             0.849  \n2             0.870  \n3             0.854  \n4             0.876  ",
      "text/html": "<div>\n<style scoped>\n    .dataframe tbody tr th:only-of-type {\n        vertical-align: middle;\n    }\n\n    .dataframe tbody tr th {\n        vertical-align: top;\n    }\n\n    .dataframe thead th {\n        text-align: right;\n    }\n</style>\n<table border=\"1\" class=\"dataframe\">\n  <thead>\n    <tr style=\"text-align: right;\">\n      <th></th>\n      <th>TERRITORIALIDADE</th>\n      <th>POSICAO_IDHM</th>\n      <th>IDHM</th>\n      <th>POSICAO_IDHM_RENDA</th>\n      <th>IDHM_RENDA</th>\n      <th>POSICAO_IDHM_EDUCACAO</th>\n      <th>IDHM_EDUCACAO</th>\n      <th>POSICAO_IDHM_LONGEVIDADE</th>\n      <th>IDHM_LONGEVIDADE</th>\n    </tr>\n  </thead>\n  <tbody>\n    <tr>\n      <th>0</th>\n      <td>São Caetano do Sul (SP)</td>\n      <td>1</td>\n      <td>0.862</td>\n      <td>8</td>\n      <td>0.887</td>\n      <td>2</td>\n      <td>0.811</td>\n      <td>1</td>\n      <td>0.891</td>\n    </tr>\n    <tr>\n      <th>1</th>\n      <td>Águas de São Pedro (SP)</td>\n      <td>2</td>\n      <td>0.854</td>\n      <td>5</td>\n      <td>0.890</td>\n      <td>1</td>\n      <td>0.825</td>\n      <td>11</td>\n      <td>0.849</td>\n    </tr>\n    <tr>\n      <th>2</th>\n      <td>Florianópolis (SC)</td>\n      <td>3</td>\n      <td>0.847</td>\n      <td>22</td>\n      <td>0.873</td>\n      <td>5</td>\n      <td>0.800</td>\n      <td>4</td>\n      <td>0.870</td>\n    </tr>\n    <tr>\n      <th>3</th>\n      <td>Balneário Camboriú (SC)</td>\n      <td>4</td>\n      <td>0.845</td>\n      <td>1</td>\n      <td>0.894</td>\n      <td>6</td>\n      <td>0.789</td>\n      <td>9</td>\n      <td>0.854</td>\n    </tr>\n    <tr>\n      <th>4</th>\n      <td>Vitória (ES)</td>\n      <td>4</td>\n      <td>0.845</td>\n      <td>40</td>\n      <td>0.855</td>\n      <td>4</td>\n      <td>0.805</td>\n      <td>3</td>\n      <td>0.876</td>\n    </tr>\n  </tbody>\n</table>\n</div>"
     },
     "execution_count": 10,
     "metadata": {},
     "output_type": "execute_result"
    }
   ],
   "source": [
    "df_idhm =  pd.read_csv('dados/idhm.csv', decimal=',', sep=';')\n",
    "df_idhm.head()"
   ],
   "metadata": {
    "collapsed": false,
    "pycharm": {
     "name": "#%%\n"
    }
   }
  },
  {
   "cell_type": "code",
   "execution_count": 11,
   "outputs": [
    {
     "data": {
      "text/plain": "       POSICAO_IDHM         IDHM  POSICAO_IDHM_RENDA   IDHM_RENDA  \\\ncount   5565.000000  5565.000000         5565.000000  5565.000000   \nmean     165.847260     0.659157           93.431447     0.801564   \nstd       71.713728     0.071997           44.669252     0.044681   \nmin        1.000000     0.418000            1.000000     0.672000   \n25%      107.000000     0.599000           59.000000     0.769000   \n50%      160.000000     0.665000           87.000000     0.808000   \n75%      226.000000     0.718000          126.000000     0.836000   \nmax      349.000000     0.862000          220.000000     0.894000   \n\n       POSICAO_IDHM_EDUCACAO  IDHM_EDUCACAO  POSICAO_IDHM_LONGEVIDADE  \\\ncount            5565.000000    5565.000000               5565.000000   \nmean              217.827314       0.559094                195.208446   \nstd                92.707789       0.093328                 80.174354   \nmin                 1.000000       0.207000                  1.000000   \n25%               146.000000       0.490000                131.000000   \n50%               217.000000       0.560000                184.000000   \n75%               287.000000       0.631000                266.000000   \nmax               466.000000       0.825000                390.000000   \n\n       IDHM_LONGEVIDADE  \ncount       5565.000000  \nmean           0.642873  \nstd            0.080662  \nmin            0.400000  \n25%            0.572000  \n50%            0.654000  \n75%            0.707000  \nmax            0.891000  ",
      "text/html": "<div>\n<style scoped>\n    .dataframe tbody tr th:only-of-type {\n        vertical-align: middle;\n    }\n\n    .dataframe tbody tr th {\n        vertical-align: top;\n    }\n\n    .dataframe thead th {\n        text-align: right;\n    }\n</style>\n<table border=\"1\" class=\"dataframe\">\n  <thead>\n    <tr style=\"text-align: right;\">\n      <th></th>\n      <th>POSICAO_IDHM</th>\n      <th>IDHM</th>\n      <th>POSICAO_IDHM_RENDA</th>\n      <th>IDHM_RENDA</th>\n      <th>POSICAO_IDHM_EDUCACAO</th>\n      <th>IDHM_EDUCACAO</th>\n      <th>POSICAO_IDHM_LONGEVIDADE</th>\n      <th>IDHM_LONGEVIDADE</th>\n    </tr>\n  </thead>\n  <tbody>\n    <tr>\n      <th>count</th>\n      <td>5565.000000</td>\n      <td>5565.000000</td>\n      <td>5565.000000</td>\n      <td>5565.000000</td>\n      <td>5565.000000</td>\n      <td>5565.000000</td>\n      <td>5565.000000</td>\n      <td>5565.000000</td>\n    </tr>\n    <tr>\n      <th>mean</th>\n      <td>165.847260</td>\n      <td>0.659157</td>\n      <td>93.431447</td>\n      <td>0.801564</td>\n      <td>217.827314</td>\n      <td>0.559094</td>\n      <td>195.208446</td>\n      <td>0.642873</td>\n    </tr>\n    <tr>\n      <th>std</th>\n      <td>71.713728</td>\n      <td>0.071997</td>\n      <td>44.669252</td>\n      <td>0.044681</td>\n      <td>92.707789</td>\n      <td>0.093328</td>\n      <td>80.174354</td>\n      <td>0.080662</td>\n    </tr>\n    <tr>\n      <th>min</th>\n      <td>1.000000</td>\n      <td>0.418000</td>\n      <td>1.000000</td>\n      <td>0.672000</td>\n      <td>1.000000</td>\n      <td>0.207000</td>\n      <td>1.000000</td>\n      <td>0.400000</td>\n    </tr>\n    <tr>\n      <th>25%</th>\n      <td>107.000000</td>\n      <td>0.599000</td>\n      <td>59.000000</td>\n      <td>0.769000</td>\n      <td>146.000000</td>\n      <td>0.490000</td>\n      <td>131.000000</td>\n      <td>0.572000</td>\n    </tr>\n    <tr>\n      <th>50%</th>\n      <td>160.000000</td>\n      <td>0.665000</td>\n      <td>87.000000</td>\n      <td>0.808000</td>\n      <td>217.000000</td>\n      <td>0.560000</td>\n      <td>184.000000</td>\n      <td>0.654000</td>\n    </tr>\n    <tr>\n      <th>75%</th>\n      <td>226.000000</td>\n      <td>0.718000</td>\n      <td>126.000000</td>\n      <td>0.836000</td>\n      <td>287.000000</td>\n      <td>0.631000</td>\n      <td>266.000000</td>\n      <td>0.707000</td>\n    </tr>\n    <tr>\n      <th>max</th>\n      <td>349.000000</td>\n      <td>0.862000</td>\n      <td>220.000000</td>\n      <td>0.894000</td>\n      <td>466.000000</td>\n      <td>0.825000</td>\n      <td>390.000000</td>\n      <td>0.891000</td>\n    </tr>\n  </tbody>\n</table>\n</div>"
     },
     "execution_count": 11,
     "metadata": {},
     "output_type": "execute_result"
    }
   ],
   "source": [
    "df_idhm.describe()"
   ],
   "metadata": {
    "collapsed": false,
    "pycharm": {
     "name": "#%%\n"
    }
   }
  },
  {
   "cell_type": "markdown",
   "source": [
    "#### Estimativa da população"
   ],
   "metadata": {
    "collapsed": false,
    "pycharm": {
     "name": "#%% md\n"
    }
   }
  },
  {
   "cell_type": "code",
   "execution_count": 12,
   "outputs": [
    {
     "data": {
      "text/plain": "  ESTADO CODIGO_ESTADO CODIGO_MUNICIPIO              MUNICIPIO  \\\n0     RO            11               15  Alta Floresta D'Oeste   \n1     RO            11               23              Ariquemes   \n2     RO            11               31                 Cabixi   \n3     RO            11               49                 Cacoal   \n4     RO            11               56             Cerejeiras   \n\n   POPULACAO_ESTIMADA  \n0               22728  \n1              109523  \n2                5188  \n3               85893  \n4               16204  ",
      "text/html": "<div>\n<style scoped>\n    .dataframe tbody tr th:only-of-type {\n        vertical-align: middle;\n    }\n\n    .dataframe tbody tr th {\n        vertical-align: top;\n    }\n\n    .dataframe thead th {\n        text-align: right;\n    }\n</style>\n<table border=\"1\" class=\"dataframe\">\n  <thead>\n    <tr style=\"text-align: right;\">\n      <th></th>\n      <th>ESTADO</th>\n      <th>CODIGO_ESTADO</th>\n      <th>CODIGO_MUNICIPIO</th>\n      <th>MUNICIPIO</th>\n      <th>POPULACAO_ESTIMADA</th>\n    </tr>\n  </thead>\n  <tbody>\n    <tr>\n      <th>0</th>\n      <td>RO</td>\n      <td>11</td>\n      <td>15</td>\n      <td>Alta Floresta D'Oeste</td>\n      <td>22728</td>\n    </tr>\n    <tr>\n      <th>1</th>\n      <td>RO</td>\n      <td>11</td>\n      <td>23</td>\n      <td>Ariquemes</td>\n      <td>109523</td>\n    </tr>\n    <tr>\n      <th>2</th>\n      <td>RO</td>\n      <td>11</td>\n      <td>31</td>\n      <td>Cabixi</td>\n      <td>5188</td>\n    </tr>\n    <tr>\n      <th>3</th>\n      <td>RO</td>\n      <td>11</td>\n      <td>49</td>\n      <td>Cacoal</td>\n      <td>85893</td>\n    </tr>\n    <tr>\n      <th>4</th>\n      <td>RO</td>\n      <td>11</td>\n      <td>56</td>\n      <td>Cerejeiras</td>\n      <td>16204</td>\n    </tr>\n  </tbody>\n</table>\n</div>"
     },
     "execution_count": 12,
     "metadata": {},
     "output_type": "execute_result"
    }
   ],
   "source": [
    "df_estimativa_populacao =  pd.read_csv('dados/estimativa_populacao.csv', sep=';')\n",
    "df_estimativa_populacao = df_estimativa_populacao.astype({'COD_UF': str, 'COD_MUNIC': str, 'POPULACAO_ESTIMADA': int})\n",
    "df_estimativa_populacao = df_estimativa_populacao.rename(columns={'UF': 'ESTADO', 'NOME_MUNICIPIO': 'MUNICIPIO',\n",
    "                                                                  'COD_UF': 'CODIGO_ESTADO',\n",
    "                                                                  'COD_MUNIC': 'CODIGO_MUNICIPIO'})\n",
    "df_estimativa_populacao.head()"
   ],
   "metadata": {
    "collapsed": false,
    "pycharm": {
     "name": "#%%\n"
    }
   }
  },
  {
   "cell_type": "code",
   "execution_count": 13,
   "outputs": [
    {
     "data": {
      "text/plain": "       POPULACAO_ESTIMADA\ncount        5.570000e+03\nmean         3.801718e+04\nstd          2.228930e+05\nmin          7.760000e+02\n25%          5.442250e+03\n50%          1.166550e+04\n75%          2.566375e+04\nmax          1.232523e+07",
      "text/html": "<div>\n<style scoped>\n    .dataframe tbody tr th:only-of-type {\n        vertical-align: middle;\n    }\n\n    .dataframe tbody tr th {\n        vertical-align: top;\n    }\n\n    .dataframe thead th {\n        text-align: right;\n    }\n</style>\n<table border=\"1\" class=\"dataframe\">\n  <thead>\n    <tr style=\"text-align: right;\">\n      <th></th>\n      <th>POPULACAO_ESTIMADA</th>\n    </tr>\n  </thead>\n  <tbody>\n    <tr>\n      <th>count</th>\n      <td>5.570000e+03</td>\n    </tr>\n    <tr>\n      <th>mean</th>\n      <td>3.801718e+04</td>\n    </tr>\n    <tr>\n      <th>std</th>\n      <td>2.228930e+05</td>\n    </tr>\n    <tr>\n      <th>min</th>\n      <td>7.760000e+02</td>\n    </tr>\n    <tr>\n      <th>25%</th>\n      <td>5.442250e+03</td>\n    </tr>\n    <tr>\n      <th>50%</th>\n      <td>1.166550e+04</td>\n    </tr>\n    <tr>\n      <th>75%</th>\n      <td>2.566375e+04</td>\n    </tr>\n    <tr>\n      <th>max</th>\n      <td>1.232523e+07</td>\n    </tr>\n  </tbody>\n</table>\n</div>"
     },
     "execution_count": 13,
     "metadata": {},
     "output_type": "execute_result"
    }
   ],
   "source": [
    "df_estimativa_populacao.describe()\n"
   ],
   "metadata": {
    "collapsed": false,
    "pycharm": {
     "name": "#%%\n"
    }
   }
  },
  {
   "cell_type": "markdown",
   "source": [
    "#### Preparação do datra frame principal"
   ],
   "metadata": {
    "collapsed": false,
    "pycharm": {
     "name": "#%% md\n"
    }
   }
  },
  {
   "cell_type": "code",
   "execution_count": 14,
   "outputs": [
    {
     "data": {
      "text/plain": "  ESTADO CODIGO_ESTADO CODIGO_MUNICIPIO              MUNICIPIO  \\\n0     RO            11               15  ALTA FLORESTA D'OESTE   \n1     RO            11               23              ARIQUEMES   \n2     RO            11               31                 CABIXI   \n3     RO            11               49                 CACOAL   \n4     RO            11               56             CEREJEIRAS   \n\n   POPULACAO_ESTIMADA  IDHM_RENDA  IDHM_EDUCACAO  IDHM_LONGEVIDADE  \n0               22728       0.763          0.526             0.657  \n1              109523       0.806          0.600             0.716  \n2                5188       0.757          0.559             0.650  \n3               85893       0.821          0.620             0.727  \n4               16204       0.799          0.602             0.688  ",
      "text/html": "<div>\n<style scoped>\n    .dataframe tbody tr th:only-of-type {\n        vertical-align: middle;\n    }\n\n    .dataframe tbody tr th {\n        vertical-align: top;\n    }\n\n    .dataframe thead th {\n        text-align: right;\n    }\n</style>\n<table border=\"1\" class=\"dataframe\">\n  <thead>\n    <tr style=\"text-align: right;\">\n      <th></th>\n      <th>ESTADO</th>\n      <th>CODIGO_ESTADO</th>\n      <th>CODIGO_MUNICIPIO</th>\n      <th>MUNICIPIO</th>\n      <th>POPULACAO_ESTIMADA</th>\n      <th>IDHM_RENDA</th>\n      <th>IDHM_EDUCACAO</th>\n      <th>IDHM_LONGEVIDADE</th>\n    </tr>\n  </thead>\n  <tbody>\n    <tr>\n      <th>0</th>\n      <td>RO</td>\n      <td>11</td>\n      <td>15</td>\n      <td>ALTA FLORESTA D'OESTE</td>\n      <td>22728</td>\n      <td>0.763</td>\n      <td>0.526</td>\n      <td>0.657</td>\n    </tr>\n    <tr>\n      <th>1</th>\n      <td>RO</td>\n      <td>11</td>\n      <td>23</td>\n      <td>ARIQUEMES</td>\n      <td>109523</td>\n      <td>0.806</td>\n      <td>0.600</td>\n      <td>0.716</td>\n    </tr>\n    <tr>\n      <th>2</th>\n      <td>RO</td>\n      <td>11</td>\n      <td>31</td>\n      <td>CABIXI</td>\n      <td>5188</td>\n      <td>0.757</td>\n      <td>0.559</td>\n      <td>0.650</td>\n    </tr>\n    <tr>\n      <th>3</th>\n      <td>RO</td>\n      <td>11</td>\n      <td>49</td>\n      <td>CACOAL</td>\n      <td>85893</td>\n      <td>0.821</td>\n      <td>0.620</td>\n      <td>0.727</td>\n    </tr>\n    <tr>\n      <th>4</th>\n      <td>RO</td>\n      <td>11</td>\n      <td>56</td>\n      <td>CEREJEIRAS</td>\n      <td>16204</td>\n      <td>0.799</td>\n      <td>0.602</td>\n      <td>0.688</td>\n    </tr>\n  </tbody>\n</table>\n</div>"
     },
     "execution_count": 14,
     "metadata": {},
     "output_type": "execute_result"
    }
   ],
   "source": [
    "df = pd.DataFrame(df_idhm[['TERRITORIALIDADE', 'IDHM_RENDA', 'IDHM_EDUCACAO', 'IDHM_LONGEVIDADE']])\n",
    "\n",
    "df['ESTADO'] = df.TERRITORIALIDADE.str[-3:-1]\n",
    "df['MUNICIPIO'] = df.TERRITORIALIDADE.str[:-5]\n",
    "\n",
    "df.MUNICIPIO.replace('Westfalia', 'Westfália', inplace=True)\n",
    "df.MUNICIPIO.replace('Lauro Muller', 'Lauro Müller', inplace=True)\n",
    "df.MUNICIPIO.replace('Embu', 'Embu das Artes', inplace=True)\n",
    "df.MUNICIPIO.replace('Vespasiano Correa', 'Vespasiano Corrêa', inplace=True)\n",
    "df.MUNICIPIO.replace('Florínia', 'Florínea', inplace=True)\n",
    "df.MUNICIPIO.replace('Biritiba-Mirim', 'Biritiba Mirim', inplace=True)\n",
    "df.MUNICIPIO.replace('Dona Eusébia', 'Dona Euzébia', inplace=True)\n",
    "df.MUNICIPIO.replace('São Luís do Paraitinga', 'São Luiz do Paraitinga', inplace=True)\n",
    "df.MUNICIPIO.replace('Brasópolis', 'Brazópolis', inplace=True)\n",
    "df.MUNICIPIO.replace('Restinga Seca', 'Restinga Sêca', inplace=True)\n",
    "df.MUNICIPIO.replace('Itaóca', 'Itaoca', inplace=True)\n",
    "df.MUNICIPIO.replace('Poxoréo', 'Poxoréu', inplace=True)\n",
    "df.MUNICIPIO.replace('São Luíz do Norte', 'São Luiz do Norte', inplace=True)\n",
    "df.MUNICIPIO.replace('São Thomé das Letras', 'São Tomé das Letras', inplace=True)\n",
    "df.MUNICIPIO.replace('São Cristovão do Sul', 'São Cristóvão do Sul', inplace=True)\n",
    "df.MUNICIPIO.replace('Fortaleza do Tabocão', 'Tabocão', inplace=True)\n",
    "df.MUNICIPIO.replace('Santa Isabel do Pará', 'Santa Izabel do Pará', inplace=True)\n",
    "df.MUNICIPIO.replace('Passa-Vinte', 'Passa Vinte', inplace=True)\n",
    "df.MUNICIPIO.replace('Itapagé', 'Itapajé', inplace=True)\n",
    "df.MUNICIPIO.replace('Augusto Severo', 'Campo Grande', inplace=True)\n",
    "df.MUNICIPIO.replace('Ererê', 'Ereré', inplace=True)\n",
    "df.MUNICIPIO.replace('Iguaraci', 'Iguaracy', inplace=True)\n",
    "df.MUNICIPIO.replace('Iuiú', 'Iuiu', inplace=True)\n",
    "df.MUNICIPIO.replace('Gracho Cardoso', 'Graccho Cardoso', inplace=True)\n",
    "df.MUNICIPIO.replace('Araças', 'Araçás', inplace=True)\n",
    "df.MUNICIPIO.replace('Eldorado dos Carajás', 'Eldorado do Carajás', inplace=True)\n",
    "df.MUNICIPIO.replace('Seridó', 'São Vicente do Seridó', inplace=True)\n",
    "df.MUNICIPIO.replace('Muquém de São Francisco', 'Muquém do São Francisco', inplace=True)\n",
    "df.loc[df.TERRITORIALIDADE == 'São Vicente Ferrer (PE)', 'MUNICIPIO'] = 'São Vicente Férrer'\n",
    "df.loc[df.TERRITORIALIDADE == 'Santarém (PB)', 'MUNICIPIO'] = 'Joca Claudino'\n",
    "df.loc[df.TERRITORIALIDADE == 'Quixabá (PB)', 'MUNICIPIO'] = 'Quixaba'\n",
    "df.loc[df.TERRITORIALIDADE == 'Presidente Juscelino (RN)', 'MUNICIPIO'] = 'Serra Caiada'\n",
    "\n",
    "df.MUNICIPIO = df.MUNICIPIO.str.upper()\n",
    "df_estimativa_populacao.MUNICIPIO = df_estimativa_populacao.MUNICIPIO.str.upper()\n",
    "\n",
    "df = pd.merge(df_estimativa_populacao, df, how=\"left\", on=['ESTADO', 'MUNICIPIO'])\n",
    "\n",
    "df.drop(columns='TERRITORIALIDADE', inplace=True)\n",
    "\n",
    "df.head()\n",
    "\n",
    "\n"
   ],
   "metadata": {
    "collapsed": false,
    "pycharm": {
     "name": "#%%\n"
    }
   }
  }
 ],
 "metadata": {
  "kernelspec": {
   "display_name": "Python 3",
   "language": "python",
   "name": "python3"
  },
  "language_info": {
   "codemirror_mode": {
    "name": "ipython",
    "version": 2
   },
   "file_extension": ".py",
   "mimetype": "text/x-python",
   "name": "python",
   "nbconvert_exporter": "python",
   "pygments_lexer": "ipython2",
   "version": "2.7.6"
  }
 },
 "nbformat": 4,
 "nbformat_minor": 0
}